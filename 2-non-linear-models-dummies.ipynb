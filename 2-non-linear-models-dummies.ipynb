{
 "cells": [
  {
   "cell_type": "markdown",
   "metadata": {},
   "source": [
    "# Diamonds Price Prediction - Non Linear Models - Dummies"
   ]
  },
  {
   "cell_type": "markdown",
   "metadata": {},
   "source": [
    "#### In this notebook we will follow with the implemenation of linear models in the diamonds dataset"
   ]
  },
  {
   "cell_type": "code",
   "execution_count": 1,
   "metadata": {},
   "outputs": [
    {
     "name": "stderr",
     "output_type": "stream",
     "text": [
      "/home/diego/anaconda3/lib/python3.7/site-packages/statsmodels/tools/_testing.py:19: FutureWarning: pandas.util.testing is deprecated. Use the functions in the public API at pandas.testing instead.\n",
      "  import pandas.util.testing as tm\n"
     ]
    }
   ],
   "source": [
    "#import general libraries\n",
    "import pandas as pd\n",
    "import numpy as np\n",
    "import seaborn as sns\n",
    "import matplotlib.pyplot as plt\n",
    "%matplotlib inline"
   ]
  },
  {
   "cell_type": "markdown",
   "metadata": {},
   "source": [
    "#### Training Data"
   ]
  },
  {
   "cell_type": "code",
   "execution_count": 2,
   "metadata": {},
   "outputs": [
    {
     "name": "stdout",
     "output_type": "stream",
     "text": [
      "(40339, 9)\n"
     ]
    },
    {
     "data": {
      "text/html": [
       "<div>\n",
       "<style scoped>\n",
       "    .dataframe tbody tr th:only-of-type {\n",
       "        vertical-align: middle;\n",
       "    }\n",
       "\n",
       "    .dataframe tbody tr th {\n",
       "        vertical-align: top;\n",
       "    }\n",
       "\n",
       "    .dataframe thead th {\n",
       "        text-align: right;\n",
       "    }\n",
       "</style>\n",
       "<table border=\"1\" class=\"dataframe\">\n",
       "  <thead>\n",
       "    <tr style=\"text-align: right;\">\n",
       "      <th></th>\n",
       "      <th>Unnamed: 0</th>\n",
       "      <th>carat</th>\n",
       "      <th>cut</th>\n",
       "      <th>color</th>\n",
       "      <th>clarity</th>\n",
       "      <th>depth</th>\n",
       "      <th>table</th>\n",
       "      <th>price</th>\n",
       "      <th>volume</th>\n",
       "    </tr>\n",
       "  </thead>\n",
       "  <tbody>\n",
       "    <tr>\n",
       "      <th>0</th>\n",
       "      <td>0</td>\n",
       "      <td>1.21</td>\n",
       "      <td>Ideal</td>\n",
       "      <td>H</td>\n",
       "      <td>VS2</td>\n",
       "      <td>63.0</td>\n",
       "      <td>57.0</td>\n",
       "      <td>6134</td>\n",
       "      <td>190.734930</td>\n",
       "    </tr>\n",
       "    <tr>\n",
       "      <th>1</th>\n",
       "      <td>1</td>\n",
       "      <td>0.28</td>\n",
       "      <td>Very Good</td>\n",
       "      <td>D</td>\n",
       "      <td>VVS2</td>\n",
       "      <td>64.0</td>\n",
       "      <td>56.0</td>\n",
       "      <td>532</td>\n",
       "      <td>45.921708</td>\n",
       "    </tr>\n",
       "    <tr>\n",
       "      <th>2</th>\n",
       "      <td>2</td>\n",
       "      <td>0.42</td>\n",
       "      <td>Premium</td>\n",
       "      <td>F</td>\n",
       "      <td>VS1</td>\n",
       "      <td>61.2</td>\n",
       "      <td>58.0</td>\n",
       "      <td>1103</td>\n",
       "      <td>69.338592</td>\n",
       "    </tr>\n",
       "    <tr>\n",
       "      <th>3</th>\n",
       "      <td>3</td>\n",
       "      <td>0.26</td>\n",
       "      <td>Ideal</td>\n",
       "      <td>H</td>\n",
       "      <td>IF</td>\n",
       "      <td>61.1</td>\n",
       "      <td>57.0</td>\n",
       "      <td>600</td>\n",
       "      <td>43.362176</td>\n",
       "    </tr>\n",
       "    <tr>\n",
       "      <th>4</th>\n",
       "      <td>4</td>\n",
       "      <td>1.10</td>\n",
       "      <td>Good</td>\n",
       "      <td>G</td>\n",
       "      <td>SI1</td>\n",
       "      <td>63.4</td>\n",
       "      <td>57.0</td>\n",
       "      <td>4997</td>\n",
       "      <td>176.802840</td>\n",
       "    </tr>\n",
       "  </tbody>\n",
       "</table>\n",
       "</div>"
      ],
      "text/plain": [
       "   Unnamed: 0  carat        cut color clarity  depth  table  price      volume\n",
       "0           0   1.21      Ideal     H     VS2   63.0   57.0   6134  190.734930\n",
       "1           1   0.28  Very Good     D    VVS2   64.0   56.0    532   45.921708\n",
       "2           2   0.42    Premium     F     VS1   61.2   58.0   1103   69.338592\n",
       "3           3   0.26      Ideal     H      IF   61.1   57.0    600   43.362176\n",
       "4           4   1.10       Good     G     SI1   63.4   57.0   4997  176.802840"
      ]
     },
     "execution_count": 2,
     "metadata": {},
     "output_type": "execute_result"
    }
   ],
   "source": [
    "traindf = pd.read_csv(\"OUTPUT/cleaned_train.csv\")\n",
    "print(traindf.shape)\n",
    "traindf.head()"
   ]
  },
  {
   "cell_type": "markdown",
   "metadata": {},
   "source": [
    "#### To implement non linear models in our data we need int instead of categories"
   ]
  },
  {
   "cell_type": "markdown",
   "metadata": {},
   "source": [
    "## Dummy Version"
   ]
  },
  {
   "cell_type": "code",
   "execution_count": 3,
   "metadata": {
    "scrolled": true
   },
   "outputs": [
    {
     "data": {
      "text/html": [
       "<div>\n",
       "<style scoped>\n",
       "    .dataframe tbody tr th:only-of-type {\n",
       "        vertical-align: middle;\n",
       "    }\n",
       "\n",
       "    .dataframe tbody tr th {\n",
       "        vertical-align: top;\n",
       "    }\n",
       "\n",
       "    .dataframe thead th {\n",
       "        text-align: right;\n",
       "    }\n",
       "</style>\n",
       "<table border=\"1\" class=\"dataframe\">\n",
       "  <thead>\n",
       "    <tr style=\"text-align: right;\">\n",
       "      <th></th>\n",
       "      <th>carat</th>\n",
       "      <th>depth</th>\n",
       "      <th>table</th>\n",
       "      <th>price</th>\n",
       "      <th>volume</th>\n",
       "      <th>cut_Fair</th>\n",
       "      <th>cut_Good</th>\n",
       "      <th>cut_Ideal</th>\n",
       "      <th>cut_Premium</th>\n",
       "      <th>cut_Very Good</th>\n",
       "      <th>...</th>\n",
       "      <th>color_I</th>\n",
       "      <th>color_J</th>\n",
       "      <th>clarity_I1</th>\n",
       "      <th>clarity_IF</th>\n",
       "      <th>clarity_SI1</th>\n",
       "      <th>clarity_SI2</th>\n",
       "      <th>clarity_VS1</th>\n",
       "      <th>clarity_VS2</th>\n",
       "      <th>clarity_VVS1</th>\n",
       "      <th>clarity_VVS2</th>\n",
       "    </tr>\n",
       "  </thead>\n",
       "  <tbody>\n",
       "    <tr>\n",
       "      <th>0</th>\n",
       "      <td>1.21</td>\n",
       "      <td>63.0</td>\n",
       "      <td>57.0</td>\n",
       "      <td>6134</td>\n",
       "      <td>190.734930</td>\n",
       "      <td>0</td>\n",
       "      <td>0</td>\n",
       "      <td>1</td>\n",
       "      <td>0</td>\n",
       "      <td>0</td>\n",
       "      <td>...</td>\n",
       "      <td>0</td>\n",
       "      <td>0</td>\n",
       "      <td>0</td>\n",
       "      <td>0</td>\n",
       "      <td>0</td>\n",
       "      <td>0</td>\n",
       "      <td>0</td>\n",
       "      <td>1</td>\n",
       "      <td>0</td>\n",
       "      <td>0</td>\n",
       "    </tr>\n",
       "    <tr>\n",
       "      <th>1</th>\n",
       "      <td>0.28</td>\n",
       "      <td>64.0</td>\n",
       "      <td>56.0</td>\n",
       "      <td>532</td>\n",
       "      <td>45.921708</td>\n",
       "      <td>0</td>\n",
       "      <td>0</td>\n",
       "      <td>0</td>\n",
       "      <td>0</td>\n",
       "      <td>1</td>\n",
       "      <td>...</td>\n",
       "      <td>0</td>\n",
       "      <td>0</td>\n",
       "      <td>0</td>\n",
       "      <td>0</td>\n",
       "      <td>0</td>\n",
       "      <td>0</td>\n",
       "      <td>0</td>\n",
       "      <td>0</td>\n",
       "      <td>0</td>\n",
       "      <td>1</td>\n",
       "    </tr>\n",
       "    <tr>\n",
       "      <th>2</th>\n",
       "      <td>0.42</td>\n",
       "      <td>61.2</td>\n",
       "      <td>58.0</td>\n",
       "      <td>1103</td>\n",
       "      <td>69.338592</td>\n",
       "      <td>0</td>\n",
       "      <td>0</td>\n",
       "      <td>0</td>\n",
       "      <td>1</td>\n",
       "      <td>0</td>\n",
       "      <td>...</td>\n",
       "      <td>0</td>\n",
       "      <td>0</td>\n",
       "      <td>0</td>\n",
       "      <td>0</td>\n",
       "      <td>0</td>\n",
       "      <td>0</td>\n",
       "      <td>1</td>\n",
       "      <td>0</td>\n",
       "      <td>0</td>\n",
       "      <td>0</td>\n",
       "    </tr>\n",
       "    <tr>\n",
       "      <th>3</th>\n",
       "      <td>0.26</td>\n",
       "      <td>61.1</td>\n",
       "      <td>57.0</td>\n",
       "      <td>600</td>\n",
       "      <td>43.362176</td>\n",
       "      <td>0</td>\n",
       "      <td>0</td>\n",
       "      <td>1</td>\n",
       "      <td>0</td>\n",
       "      <td>0</td>\n",
       "      <td>...</td>\n",
       "      <td>0</td>\n",
       "      <td>0</td>\n",
       "      <td>0</td>\n",
       "      <td>1</td>\n",
       "      <td>0</td>\n",
       "      <td>0</td>\n",
       "      <td>0</td>\n",
       "      <td>0</td>\n",
       "      <td>0</td>\n",
       "      <td>0</td>\n",
       "    </tr>\n",
       "    <tr>\n",
       "      <th>4</th>\n",
       "      <td>1.10</td>\n",
       "      <td>63.4</td>\n",
       "      <td>57.0</td>\n",
       "      <td>4997</td>\n",
       "      <td>176.802840</td>\n",
       "      <td>0</td>\n",
       "      <td>1</td>\n",
       "      <td>0</td>\n",
       "      <td>0</td>\n",
       "      <td>0</td>\n",
       "      <td>...</td>\n",
       "      <td>0</td>\n",
       "      <td>0</td>\n",
       "      <td>0</td>\n",
       "      <td>0</td>\n",
       "      <td>1</td>\n",
       "      <td>0</td>\n",
       "      <td>0</td>\n",
       "      <td>0</td>\n",
       "      <td>0</td>\n",
       "      <td>0</td>\n",
       "    </tr>\n",
       "  </tbody>\n",
       "</table>\n",
       "<p>5 rows × 25 columns</p>\n",
       "</div>"
      ],
      "text/plain": [
       "   carat  depth  table  price      volume  cut_Fair  cut_Good  cut_Ideal  \\\n",
       "0   1.21   63.0   57.0   6134  190.734930         0         0          1   \n",
       "1   0.28   64.0   56.0    532   45.921708         0         0          0   \n",
       "2   0.42   61.2   58.0   1103   69.338592         0         0          0   \n",
       "3   0.26   61.1   57.0    600   43.362176         0         0          1   \n",
       "4   1.10   63.4   57.0   4997  176.802840         0         1          0   \n",
       "\n",
       "   cut_Premium  cut_Very Good  ...  color_I  color_J  clarity_I1  clarity_IF  \\\n",
       "0            0              0  ...        0        0           0           0   \n",
       "1            0              1  ...        0        0           0           0   \n",
       "2            1              0  ...        0        0           0           0   \n",
       "3            0              0  ...        0        0           0           1   \n",
       "4            0              0  ...        0        0           0           0   \n",
       "\n",
       "   clarity_SI1  clarity_SI2  clarity_VS1  clarity_VS2  clarity_VVS1  \\\n",
       "0            0            0            0            1             0   \n",
       "1            0            0            0            0             0   \n",
       "2            0            0            1            0             0   \n",
       "3            0            0            0            0             0   \n",
       "4            1            0            0            0             0   \n",
       "\n",
       "   clarity_VVS2  \n",
       "0             0  \n",
       "1             1  \n",
       "2             0  \n",
       "3             0  \n",
       "4             0  \n",
       "\n",
       "[5 rows x 25 columns]"
      ]
     },
     "execution_count": 3,
     "metadata": {},
     "output_type": "execute_result"
    }
   ],
   "source": [
    "train_dum = pd.get_dummies(traindf.iloc[:,1:])\n",
    "train_dum.head()"
   ]
  },
  {
   "cell_type": "markdown",
   "metadata": {},
   "source": [
    "#### But before implementing the non linear models, we have to check 3 steps:\n",
    "    - Correlation between variables\n",
    "    - How each independent variable explain price\n",
    "    - If we need to scale our data"
   ]
  },
  {
   "cell_type": "code",
   "execution_count": 4,
   "metadata": {},
   "outputs": [
    {
     "data": {
      "text/plain": [
       "<matplotlib.axes._subplots.AxesSubplot at 0x7fbf0e5763d0>"
      ]
     },
     "execution_count": 4,
     "metadata": {},
     "output_type": "execute_result"
    },
    {
     "data": {
      "image/png": "[encoded data removed]",
      "text/plain": [
       "<Figure size 792x792 with 2 Axes>"
      ]
     },
     "metadata": {
      "needs_background": "light"
     },
     "output_type": "display_data"
    }
   ],
   "source": [
    "# Generate a mask for the upper triangle\n",
    "#mask = np.triu(np.ones_like(train_dum.corr(), dtype=np.bool))\n",
    "#I let the mask here in case someone prefers to apply it, however I see more clear inputs without the mask\n",
    "\n",
    "plt.figure(figsize=(11, 11))\n",
    "\n",
    "# Generate a custom diverging colormap\n",
    "cmap = sns.diverging_palette(220, 10, as_cmap=True)\n",
    "\n",
    "# Draw the heatmap with the mask and correct aspect ratio\n",
    "sns.heatmap(train_dum.corr(), mask=None, cmap=cmap, vmax=1, center=0,\n",
    "            square=True, linewidths=.5, cbar_kws={\"shrink\": .5})"
   ]
  },
  {
   "cell_type": "markdown",
   "metadata": {},
   "source": [
    "#### As we have seen in the descriptive analysis, the price is highly correlated with carat and volume and also these to independet variables too. The good news is that most of the non linear models take care of this problem. So lets scale our data and train the different models to test"
   ]
  },
  {
   "cell_type": "code",
   "execution_count": 5,
   "metadata": {},
   "outputs": [],
   "source": [
    "X_t = train_dum.drop(columns={\"price\"})\n",
    "y_t = train_dum.price"
   ]
  },
  {
   "cell_type": "code",
   "execution_count": 6,
   "metadata": {},
   "outputs": [
    {
     "data": {
      "image/png": "[encoded data removed]",
      "text/plain": [
       "<Figure size 1080x360 with 2 Axes>"
      ]
     },
     "metadata": {
      "needs_background": "light"
     },
     "output_type": "display_data"
    }
   ],
   "source": [
    "from sklearn.preprocessing import StandardScaler\n",
    "sc_X = StandardScaler()\n",
    "\n",
    "Xss = sc_X.fit_transform(X_t)\n",
    "\n",
    "train_SS = pd.DataFrame(Xss, columns=['carat', 'depth', 'table', 'volume', 'cut_Fair', 'cut_Good',\n",
    "       'cut_Ideal', 'cut_Premium', 'cut_Very Good', 'color_D', 'color_E',\n",
    "       'color_F', 'color_G', 'color_H', 'color_I', 'color_J', 'clarity_I1',\n",
    "       'clarity_IF', 'clarity_SI1', 'clarity_SI2', 'clarity_VS1',\n",
    "       'clarity_VS2', 'clarity_VVS1', 'clarity_VVS2'])\n",
    "\n",
    "fig, (ax1, ax2) = plt.subplots(ncols=2, figsize=(15, 5))\n",
    "ax1.set_title('Before Scaling')\n",
    "for e in X_t.columns:\n",
    "    sns.kdeplot(X_t[e], ax=ax1)\n",
    "ax2.set_title('After Standard Scaling')\n",
    "for e in train_SS.columns:\n",
    "    sns.kdeplot(train_SS[e], ax=ax2, legend=None)\n",
    "plt.show()"
   ]
  },
  {
   "cell_type": "code",
   "execution_count": 7,
   "metadata": {},
   "outputs": [
    {
     "data": {
      "image/png": "[encoded data removed]",
      "text/plain": [
       "<Figure size 1080x360 with 2 Axes>"
      ]
     },
     "metadata": {
      "needs_background": "light"
     },
     "output_type": "display_data"
    }
   ],
   "source": [
    "from sklearn.preprocessing import MinMaxScaler\n",
    "mmc_X = MinMaxScaler()\n",
    "\n",
    "Xmm = mmc_X.fit_transform(X_t)\n",
    "\n",
    "train_MM = pd.DataFrame(Xmm, columns=['carat', 'depth', 'table', 'volume', 'cut_Fair', 'cut_Good',\n",
    "       'cut_Ideal', 'cut_Premium', 'cut_Very Good', 'color_D', 'color_E',\n",
    "       'color_F', 'color_G', 'color_H', 'color_I', 'color_J', 'clarity_I1',\n",
    "       'clarity_IF', 'clarity_SI1', 'clarity_SI2', 'clarity_VS1',\n",
    "       'clarity_VS2', 'clarity_VVS1', 'clarity_VVS2'])\n",
    "\n",
    "fig, (ax1, ax2) = plt.subplots(ncols=2, figsize=(15, 5))\n",
    "ax1.set_title('Before Scaling')\n",
    "for e in X_t.columns:\n",
    "    sns.kdeplot(X_t[e], ax=ax1)\n",
    "ax2.set_title('After Min-Max Scaling')\n",
    "for e in train_MM.columns:\n",
    "    sns.kdeplot(train_MM[e], ax=ax2, legend=None)\n",
    "plt.show()"
   ]
  },
  {
   "cell_type": "markdown",
   "metadata": {},
   "source": [
    "#### After processing the data, the standard scaler looks better to train our models"
   ]
  },
  {
   "cell_type": "code",
   "execution_count": 8,
   "metadata": {},
   "outputs": [
    {
     "name": "stdout",
     "output_type": "stream",
     "text": [
      "(32271, 24) (8068, 24) (32271,) (8068,)\n"
     ]
    }
   ],
   "source": [
    "from sklearn.metrics import mean_squared_error, r2_score \n",
    "from sklearn.model_selection import train_test_split\n",
    "\n",
    "X = train_SS\n",
    "y = np.ravel(y_t) #we use np.ravel to change shape (x,1) to (x,)\n",
    "\n",
    "X_train, X_test, y_train, y_test = train_test_split(X, y, test_size=0.2)\n",
    "print(X_train.shape, X_test.shape, y_train.shape, y_test.shape)"
   ]
  },
  {
   "cell_type": "code",
   "execution_count": 212,
   "metadata": {},
   "outputs": [],
   "source": [
    "#1st select the splited X and y. Then after your model achieves the accuracy needed, train with 100% X and y\n",
    "#However if you thing you could be overfitting your data you can use the splited model to test\n",
    "# X, y ----- X_train, y_train\n",
    "X_training = X\n",
    "y_training = y"
   ]
  },
  {
   "cell_type": "markdown",
   "metadata": {},
   "source": [
    "### SVR Regression"
   ]
  },
  {
   "cell_type": "code",
   "execution_count": 213,
   "metadata": {},
   "outputs": [],
   "source": [
    "from sklearn.svm import SVR\n",
    "\n",
    "svrReg = SVR(C=1000)\n",
    "\n",
    "svrReg.fit(X_training, y_training) \n",
    "  \n",
    "svr_pred = svrReg.predict(X_test)"
   ]
  },
  {
   "cell_type": "code",
   "execution_count": 214,
   "metadata": {
    "scrolled": true
   },
   "outputs": [
    {
     "name": "stdout",
     "output_type": "stream",
     "text": [
      "r2: 0.9753270639852415 rmse: 611.8656909956286\n"
     ]
    }
   ],
   "source": [
    "svr_r2 = svrReg.score(X_test, y_test)\n",
    "\n",
    "svr_rmse = mean_squared_error(y_test, svr_pred, sample_weight=None, multioutput='uniform_average', squared=False)\n",
    "\n",
    "print(\"r2:\",svr_r2,\"rmse:\",svr_rmse)"
   ]
  },
  {
   "cell_type": "markdown",
   "metadata": {},
   "source": [
    "### NuSVR Regression "
   ]
  },
  {
   "cell_type": "code",
   "execution_count": 215,
   "metadata": {},
   "outputs": [],
   "source": [
    "from sklearn.svm import NuSVR\n",
    "\n",
    "nureg = NuSVR(C=1000)\n",
    "\n",
    "nureg.fit(X_training, y_training) \n",
    "\n",
    "nureg_pred = nureg.predict(X_test)"
   ]
  },
  {
   "cell_type": "code",
   "execution_count": 216,
   "metadata": {},
   "outputs": [
    {
     "name": "stdout",
     "output_type": "stream",
     "text": [
      "r2: 0.9754635534583603 rmse: 610.1709384117732\n"
     ]
    }
   ],
   "source": [
    "nu_r2 = nureg.score(X_test, y_test)\n",
    "\n",
    "nureg_rmse = mean_squared_error(y_test, nureg_pred, sample_weight=None, multioutput='uniform_average', squared=False)\n",
    "\n",
    "print(\"r2:\",nu_r2,\"rmse:\",nureg_rmse)"
   ]
  },
  {
   "cell_type": "markdown",
   "metadata": {},
   "source": [
    "### KNeighbors Regression"
   ]
  },
  {
   "cell_type": "code",
   "execution_count": 217,
   "metadata": {},
   "outputs": [],
   "source": [
    "from sklearn.neighbors import KNeighborsRegressor\n",
    "\n",
    "knnreg = KNeighborsRegressor(n_neighbors=5, weights=\"distance\", p=1, algorithm=\"auto\")\n",
    "\n",
    "knnreg.fit(X_training, y_training) \n",
    "\n",
    "knnreg_pred = knnreg.predict(X_test)"
   ]
  },
  {
   "cell_type": "code",
   "execution_count": 218,
   "metadata": {},
   "outputs": [
    {
     "name": "stdout",
     "output_type": "stream",
     "text": [
      "r2: 0.9999297096982336 rmse: 32.658286110406124\n"
     ]
    }
   ],
   "source": [
    "knn_r2 = knnreg.score(X_test, y_test)\n",
    "\n",
    "knnreg_rmse = mean_squared_error(y_test, knnreg_pred, sample_weight=None, multioutput='uniform_average', squared=False)\n",
    "\n",
    "print(\"r2:\",knn_r2,\"rmse:\",knnreg_rmse)"
   ]
  },
  {
   "cell_type": "markdown",
   "metadata": {},
   "source": [
    "### Decision Tree Regressor"
   ]
  },
  {
   "cell_type": "code",
   "execution_count": 219,
   "metadata": {},
   "outputs": [],
   "source": [
    "from sklearn.tree import DecisionTreeRegressor\n",
    "\n",
    "dtreereg = DecisionTreeRegressor(min_samples_split=40, max_features=\"auto\")\n",
    "\n",
    "dtreereg.fit(X_training, y_training) \n",
    "\n",
    "dtreereg_pred = dtreereg.predict(X_test)"
   ]
  },
  {
   "cell_type": "code",
   "execution_count": 220,
   "metadata": {},
   "outputs": [
    {
     "name": "stdout",
     "output_type": "stream",
     "text": [
      "r2: 0.9837233684242377 rmse: 496.96745870940293\n"
     ]
    }
   ],
   "source": [
    "dtree_r2 = dtreereg.score(X_test, y_test)\n",
    "\n",
    "dtree_rmse = mean_squared_error(y_test, dtreereg_pred, sample_weight=None, multioutput='uniform_average', squared=False)\n",
    "\n",
    "print(\"r2:\",dtree_r2,\"rmse:\",dtree_rmse)"
   ]
  },
  {
   "cell_type": "markdown",
   "metadata": {},
   "source": [
    "### Bagging Regressor"
   ]
  },
  {
   "cell_type": "code",
   "execution_count": 221,
   "metadata": {},
   "outputs": [],
   "source": [
    "from sklearn.ensemble import BaggingRegressor\n",
    "\n",
    "bggreg = BaggingRegressor(n_estimators=500, max_samples=30000, max_features=22, bootstrap=True, bootstrap_features=False)\n",
    "\n",
    "bggreg.fit(X_training, y_training) \n",
    "\n",
    "bggreg_pred = bggreg.predict(X_test)"
   ]
  },
  {
   "cell_type": "code",
   "execution_count": 222,
   "metadata": {},
   "outputs": [
    {
     "name": "stdout",
     "output_type": "stream",
     "text": [
      "r2: 0.9957202078048479 rmse: 254.8337978969738\n"
     ]
    }
   ],
   "source": [
    "bgg_r2 = bggreg.score(X_test, y_test)\n",
    "\n",
    "bgg_rmse = mean_squared_error(y_test, bggreg_pred, sample_weight=None, multioutput='uniform_average', squared=False)\n",
    "\n",
    "print(\"r2:\",bgg_r2,\"rmse:\",bgg_rmse)"
   ]
  },
  {
   "cell_type": "markdown",
   "metadata": {},
   "source": [
    "### Random Forest Regressor"
   ]
  },
  {
   "cell_type": "code",
   "execution_count": 223,
   "metadata": {},
   "outputs": [],
   "source": [
    "from sklearn.ensemble import RandomForestRegressor\n",
    "\n",
    "rfreg = RandomForestRegressor(n_estimators=500 ,min_samples_split=40, max_features=\"auto\", min_samples_leaf=1, bootstrap=True)\n",
    "\n",
    "rfreg.fit(X_training, y_training) \n",
    "\n",
    "rfreg_pred = rfreg.predict(X_test)"
   ]
  },
  {
   "cell_type": "code",
   "execution_count": 224,
   "metadata": {},
   "outputs": [
    {
     "name": "stdout",
     "output_type": "stream",
     "text": [
      "r2: 0.9844099881001183 rmse: 486.37238508476753\n"
     ]
    }
   ],
   "source": [
    "rf_r2 = rfreg.score(X_test, y_test)\n",
    "\n",
    "rf_rmse = mean_squared_error(y_test, rfreg_pred, sample_weight=None, multioutput='uniform_average', squared=False)\n",
    "\n",
    "print(\"r2:\",rf_r2,\"rmse:\",rf_rmse)"
   ]
  },
  {
   "cell_type": "markdown",
   "metadata": {},
   "source": [
    "### Extra Trees Regressor"
   ]
  },
  {
   "cell_type": "code",
   "execution_count": 225,
   "metadata": {},
   "outputs": [],
   "source": [
    "from sklearn.ensemble import ExtraTreesRegressor\n",
    "\n",
    "etreg = ExtraTreesRegressor(n_estimators=500 ,min_samples_split=10, max_features=\"auto\", min_samples_leaf=1, bootstrap=True)\n",
    "\n",
    "etreg.fit(X_training, y_training) \n",
    "\n",
    "etreg_pred = etreg.predict(X_test)"
   ]
  },
  {
   "cell_type": "code",
   "execution_count": 226,
   "metadata": {},
   "outputs": [
    {
     "name": "stdout",
     "output_type": "stream",
     "text": [
      "r2: 0.9902004018434675 rmse: 385.6113596474258\n"
     ]
    }
   ],
   "source": [
    "et_r2 = etreg.score(X_test, y_test)\n",
    "\n",
    "et_rmse = mean_squared_error(y_test, etreg_pred, sample_weight=None, multioutput='uniform_average', squared=False)\n",
    "\n",
    "print(\"r2:\",et_r2,\"rmse:\",et_rmse)"
   ]
  },
  {
   "cell_type": "markdown",
   "metadata": {},
   "source": [
    "### Ada Boost Regressor"
   ]
  },
  {
   "cell_type": "code",
   "execution_count": 227,
   "metadata": {},
   "outputs": [],
   "source": [
    "from sklearn.ensemble import AdaBoostRegressor\n",
    "\n",
    "abreg = AdaBoostRegressor(base_estimator=None, n_estimators=10, learning_rate=.1, loss=\"linear\")\n",
    "\n",
    "abreg.fit(X_training, y_training) \n",
    "\n",
    "abreg_pred = abreg.predict(X_test)"
   ]
  },
  {
   "cell_type": "code",
   "execution_count": 228,
   "metadata": {},
   "outputs": [
    {
     "name": "stdout",
     "output_type": "stream",
     "text": [
      "r2: 0.8741684972174735 rmse: 1381.7846924489922\n"
     ]
    }
   ],
   "source": [
    "ab_r2 = abreg.score(X_test, y_test)\n",
    "\n",
    "ab_rmse = mean_squared_error(y_test, abreg_pred, sample_weight=None, multioutput='uniform_average', squared=False)\n",
    "\n",
    "print(\"r2:\",ab_r2,\"rmse:\",ab_rmse)"
   ]
  },
  {
   "cell_type": "markdown",
   "metadata": {},
   "source": [
    "### Gradient Boosting Regressor"
   ]
  },
  {
   "cell_type": "code",
   "execution_count": 229,
   "metadata": {},
   "outputs": [],
   "source": [
    "from sklearn.ensemble import GradientBoostingRegressor\n",
    "\n",
    "gbreg = GradientBoostingRegressor(n_estimators=1000, subsample=1, min_samples_split=10, max_features=\"auto\", min_samples_leaf=1, alpha=0.5)\n",
    "\n",
    "gbreg.fit(X_training, y_training) \n",
    "\n",
    "gbreg_pred = gbreg.predict(X_test)"
   ]
  },
  {
   "cell_type": "code",
   "execution_count": 230,
   "metadata": {},
   "outputs": [
    {
     "name": "stdout",
     "output_type": "stream",
     "text": [
      "r2: 0.984777447581987 rmse: 480.60626150998314\n"
     ]
    }
   ],
   "source": [
    "gb_r2 = gbreg.score(X_test, y_test)\n",
    "\n",
    "gb_rmse = mean_squared_error(y_test, gbreg_pred, sample_weight=None, multioutput='uniform_average', squared=False)\n",
    "\n",
    "print(\"r2:\",gb_r2,\"rmse:\",gb_rmse)"
   ]
  },
  {
   "cell_type": "markdown",
   "metadata": {},
   "source": [
    "### Hist Gradient Boosting Regressor"
   ]
  },
  {
   "cell_type": "code",
   "execution_count": 231,
   "metadata": {},
   "outputs": [],
   "source": [
    "from sklearn.experimental import enable_hist_gradient_boosting\n",
    "from sklearn.ensemble import HistGradientBoostingRegressor\n",
    "\n",
    "hgbreg = HistGradientBoostingRegressor(max_iter=100, max_leaf_nodes=30, min_samples_leaf=2)\n",
    "\n",
    "hgbreg.fit(X_training, y_training) \n",
    "\n",
    "hbreg_pred = hgbreg.predict(X_test)"
   ]
  },
  {
   "cell_type": "code",
   "execution_count": 232,
   "metadata": {},
   "outputs": [
    {
     "name": "stdout",
     "output_type": "stream",
     "text": [
      "r2: 0.9850783514404156 rmse: 475.8324862924638\n"
     ]
    }
   ],
   "source": [
    "hgb_r2 = hgbreg.score(X_test, y_test)\n",
    "\n",
    "hgb_rmse = mean_squared_error(y_test, hbreg_pred, sample_weight=None, multioutput='uniform_average', squared=False)\n",
    "\n",
    "print(\"r2:\",hgb_r2,\"rmse:\",hgb_rmse)"
   ]
  },
  {
   "cell_type": "markdown",
   "metadata": {},
   "source": [
    "#### As we could imagine by checking the pairplot of the descriptive analysis notebook, our predictions perform better with non linear models. Our dataset has hierarchy in all its ordinal variables, so it makes  the relation of each one of these vars with price non linear"
   ]
  },
  {
   "cell_type": "code",
   "execution_count": 206,
   "metadata": {},
   "outputs": [
    {
     "name": "stdout",
     "output_type": "stream",
     "text": [
      "(13449, 10)\n"
     ]
    },
    {
     "data": {
      "text/html": [
       "<div>\n",
       "<style scoped>\n",
       "    .dataframe tbody tr th:only-of-type {\n",
       "        vertical-align: middle;\n",
       "    }\n",
       "\n",
       "    .dataframe tbody tr th {\n",
       "        vertical-align: top;\n",
       "    }\n",
       "\n",
       "    .dataframe thead th {\n",
       "        text-align: right;\n",
       "    }\n",
       "</style>\n",
       "<table border=\"1\" class=\"dataframe\">\n",
       "  <thead>\n",
       "    <tr style=\"text-align: right;\">\n",
       "      <th></th>\n",
       "      <th>Unnamed: 0</th>\n",
       "      <th>carat</th>\n",
       "      <th>cut</th>\n",
       "      <th>color</th>\n",
       "      <th>clarity</th>\n",
       "      <th>depth</th>\n",
       "      <th>table</th>\n",
       "      <th>x</th>\n",
       "      <th>y</th>\n",
       "      <th>z</th>\n",
       "    </tr>\n",
       "  </thead>\n",
       "  <tbody>\n",
       "    <tr>\n",
       "      <th>0</th>\n",
       "      <td>0</td>\n",
       "      <td>0.30</td>\n",
       "      <td>Ideal</td>\n",
       "      <td>H</td>\n",
       "      <td>SI2</td>\n",
       "      <td>60.0</td>\n",
       "      <td>56.0</td>\n",
       "      <td>4.41</td>\n",
       "      <td>4.43</td>\n",
       "      <td>2.65</td>\n",
       "    </tr>\n",
       "    <tr>\n",
       "      <th>1</th>\n",
       "      <td>1</td>\n",
       "      <td>0.34</td>\n",
       "      <td>Ideal</td>\n",
       "      <td>D</td>\n",
       "      <td>IF</td>\n",
       "      <td>62.1</td>\n",
       "      <td>57.0</td>\n",
       "      <td>4.52</td>\n",
       "      <td>4.46</td>\n",
       "      <td>2.79</td>\n",
       "    </tr>\n",
       "    <tr>\n",
       "      <th>2</th>\n",
       "      <td>2</td>\n",
       "      <td>1.57</td>\n",
       "      <td>Very Good</td>\n",
       "      <td>I</td>\n",
       "      <td>VS2</td>\n",
       "      <td>60.3</td>\n",
       "      <td>58.0</td>\n",
       "      <td>7.58</td>\n",
       "      <td>7.55</td>\n",
       "      <td>4.56</td>\n",
       "    </tr>\n",
       "    <tr>\n",
       "      <th>3</th>\n",
       "      <td>3</td>\n",
       "      <td>0.31</td>\n",
       "      <td>Ideal</td>\n",
       "      <td>H</td>\n",
       "      <td>VS2</td>\n",
       "      <td>61.8</td>\n",
       "      <td>57.0</td>\n",
       "      <td>4.32</td>\n",
       "      <td>4.36</td>\n",
       "      <td>2.68</td>\n",
       "    </tr>\n",
       "    <tr>\n",
       "      <th>4</th>\n",
       "      <td>4</td>\n",
       "      <td>1.51</td>\n",
       "      <td>Good</td>\n",
       "      <td>I</td>\n",
       "      <td>VVS1</td>\n",
       "      <td>64.0</td>\n",
       "      <td>60.0</td>\n",
       "      <td>7.26</td>\n",
       "      <td>7.21</td>\n",
       "      <td>4.63</td>\n",
       "    </tr>\n",
       "  </tbody>\n",
       "</table>\n",
       "</div>"
      ],
      "text/plain": [
       "   Unnamed: 0  carat        cut color clarity  depth  table     x     y     z\n",
       "0           0   0.30      Ideal     H     SI2   60.0   56.0  4.41  4.43  2.65\n",
       "1           1   0.34      Ideal     D      IF   62.1   57.0  4.52  4.46  2.79\n",
       "2           2   1.57  Very Good     I     VS2   60.3   58.0  7.58  7.55  4.56\n",
       "3           3   0.31      Ideal     H     VS2   61.8   57.0  4.32  4.36  2.68\n",
       "4           4   1.51       Good     I    VVS1   64.0   60.0  7.26  7.21  4.63"
      ]
     },
     "execution_count": 206,
     "metadata": {},
     "output_type": "execute_result"
    }
   ],
   "source": [
    "testdf = pd.read_csv(\"INPUT/diamonds_test.csv\")\n",
    "print(testdf.shape)\n",
    "testdf.head()"
   ]
  },
  {
   "cell_type": "markdown",
   "metadata": {},
   "source": [
    "#### Compute Volume"
   ]
  },
  {
   "cell_type": "code",
   "execution_count": 208,
   "metadata": {},
   "outputs": [],
   "source": [
    "testdf[\"volume\"] = testdf.x * testdf.y * testdf.z\n",
    "index = testdf[\"Unnamed: 0\"]\n",
    "testdf.drop(columns={\"Unnamed: 0\",\"x\",\"y\",\"z\"}, inplace=True)"
   ]
  },
  {
   "cell_type": "code",
   "execution_count": 209,
   "metadata": {},
   "outputs": [],
   "source": [
    "test_dum = pd.get_dummies(testdf)"
   ]
  },
  {
   "cell_type": "code",
   "execution_count": 210,
   "metadata": {
    "scrolled": true
   },
   "outputs": [
    {
     "data": {
      "text/html": [
       "<div>\n",
       "<style scoped>\n",
       "    .dataframe tbody tr th:only-of-type {\n",
       "        vertical-align: middle;\n",
       "    }\n",
       "\n",
       "    .dataframe tbody tr th {\n",
       "        vertical-align: top;\n",
       "    }\n",
       "\n",
       "    .dataframe thead th {\n",
       "        text-align: right;\n",
       "    }\n",
       "</style>\n",
       "<table border=\"1\" class=\"dataframe\">\n",
       "  <thead>\n",
       "    <tr style=\"text-align: right;\">\n",
       "      <th></th>\n",
       "      <th>carat</th>\n",
       "      <th>depth</th>\n",
       "      <th>table</th>\n",
       "      <th>volume</th>\n",
       "      <th>cut_Fair</th>\n",
       "      <th>cut_Good</th>\n",
       "      <th>cut_Ideal</th>\n",
       "      <th>cut_Premium</th>\n",
       "      <th>cut_Very Good</th>\n",
       "      <th>color_D</th>\n",
       "      <th>...</th>\n",
       "      <th>color_I</th>\n",
       "      <th>color_J</th>\n",
       "      <th>clarity_I1</th>\n",
       "      <th>clarity_IF</th>\n",
       "      <th>clarity_SI1</th>\n",
       "      <th>clarity_SI2</th>\n",
       "      <th>clarity_VS1</th>\n",
       "      <th>clarity_VS2</th>\n",
       "      <th>clarity_VVS1</th>\n",
       "      <th>clarity_VVS2</th>\n",
       "    </tr>\n",
       "  </thead>\n",
       "  <tbody>\n",
       "    <tr>\n",
       "      <th>0</th>\n",
       "      <td>0.30</td>\n",
       "      <td>60.0</td>\n",
       "      <td>56.0</td>\n",
       "      <td>51.771195</td>\n",
       "      <td>0</td>\n",
       "      <td>0</td>\n",
       "      <td>1</td>\n",
       "      <td>0</td>\n",
       "      <td>0</td>\n",
       "      <td>0</td>\n",
       "      <td>...</td>\n",
       "      <td>0</td>\n",
       "      <td>0</td>\n",
       "      <td>0</td>\n",
       "      <td>0</td>\n",
       "      <td>0</td>\n",
       "      <td>1</td>\n",
       "      <td>0</td>\n",
       "      <td>0</td>\n",
       "      <td>0</td>\n",
       "      <td>0</td>\n",
       "    </tr>\n",
       "    <tr>\n",
       "      <th>1</th>\n",
       "      <td>0.34</td>\n",
       "      <td>62.1</td>\n",
       "      <td>57.0</td>\n",
       "      <td>56.244168</td>\n",
       "      <td>0</td>\n",
       "      <td>0</td>\n",
       "      <td>1</td>\n",
       "      <td>0</td>\n",
       "      <td>0</td>\n",
       "      <td>1</td>\n",
       "      <td>...</td>\n",
       "      <td>0</td>\n",
       "      <td>0</td>\n",
       "      <td>0</td>\n",
       "      <td>1</td>\n",
       "      <td>0</td>\n",
       "      <td>0</td>\n",
       "      <td>0</td>\n",
       "      <td>0</td>\n",
       "      <td>0</td>\n",
       "      <td>0</td>\n",
       "    </tr>\n",
       "    <tr>\n",
       "      <th>2</th>\n",
       "      <td>1.57</td>\n",
       "      <td>60.3</td>\n",
       "      <td>58.0</td>\n",
       "      <td>260.964240</td>\n",
       "      <td>0</td>\n",
       "      <td>0</td>\n",
       "      <td>0</td>\n",
       "      <td>0</td>\n",
       "      <td>1</td>\n",
       "      <td>0</td>\n",
       "      <td>...</td>\n",
       "      <td>1</td>\n",
       "      <td>0</td>\n",
       "      <td>0</td>\n",
       "      <td>0</td>\n",
       "      <td>0</td>\n",
       "      <td>0</td>\n",
       "      <td>0</td>\n",
       "      <td>1</td>\n",
       "      <td>0</td>\n",
       "      <td>0</td>\n",
       "    </tr>\n",
       "    <tr>\n",
       "      <th>3</th>\n",
       "      <td>0.31</td>\n",
       "      <td>61.8</td>\n",
       "      <td>57.0</td>\n",
       "      <td>50.478336</td>\n",
       "      <td>0</td>\n",
       "      <td>0</td>\n",
       "      <td>1</td>\n",
       "      <td>0</td>\n",
       "      <td>0</td>\n",
       "      <td>0</td>\n",
       "      <td>...</td>\n",
       "      <td>0</td>\n",
       "      <td>0</td>\n",
       "      <td>0</td>\n",
       "      <td>0</td>\n",
       "      <td>0</td>\n",
       "      <td>0</td>\n",
       "      <td>0</td>\n",
       "      <td>1</td>\n",
       "      <td>0</td>\n",
       "      <td>0</td>\n",
       "    </tr>\n",
       "    <tr>\n",
       "      <th>4</th>\n",
       "      <td>1.51</td>\n",
       "      <td>64.0</td>\n",
       "      <td>60.0</td>\n",
       "      <td>242.355498</td>\n",
       "      <td>0</td>\n",
       "      <td>1</td>\n",
       "      <td>0</td>\n",
       "      <td>0</td>\n",
       "      <td>0</td>\n",
       "      <td>0</td>\n",
       "      <td>...</td>\n",
       "      <td>1</td>\n",
       "      <td>0</td>\n",
       "      <td>0</td>\n",
       "      <td>0</td>\n",
       "      <td>0</td>\n",
       "      <td>0</td>\n",
       "      <td>0</td>\n",
       "      <td>0</td>\n",
       "      <td>1</td>\n",
       "      <td>0</td>\n",
       "    </tr>\n",
       "  </tbody>\n",
       "</table>\n",
       "<p>5 rows × 24 columns</p>\n",
       "</div>"
      ],
      "text/plain": [
       "   carat  depth  table      volume  cut_Fair  cut_Good  cut_Ideal  \\\n",
       "0   0.30   60.0   56.0   51.771195         0         0          1   \n",
       "1   0.34   62.1   57.0   56.244168         0         0          1   \n",
       "2   1.57   60.3   58.0  260.964240         0         0          0   \n",
       "3   0.31   61.8   57.0   50.478336         0         0          1   \n",
       "4   1.51   64.0   60.0  242.355498         0         1          0   \n",
       "\n",
       "   cut_Premium  cut_Very Good  color_D  ...  color_I  color_J  clarity_I1  \\\n",
       "0            0              0        0  ...        0        0           0   \n",
       "1            0              0        1  ...        0        0           0   \n",
       "2            0              1        0  ...        1        0           0   \n",
       "3            0              0        0  ...        0        0           0   \n",
       "4            0              0        0  ...        1        0           0   \n",
       "\n",
       "   clarity_IF  clarity_SI1  clarity_SI2  clarity_VS1  clarity_VS2  \\\n",
       "0           0            0            1            0            0   \n",
       "1           1            0            0            0            0   \n",
       "2           0            0            0            0            1   \n",
       "3           0            0            0            0            1   \n",
       "4           0            0            0            0            0   \n",
       "\n",
       "   clarity_VVS1  clarity_VVS2  \n",
       "0             0             0  \n",
       "1             0             0  \n",
       "2             0             0  \n",
       "3             0             0  \n",
       "4             1             0  \n",
       "\n",
       "[5 rows x 24 columns]"
      ]
     },
     "execution_count": 210,
     "metadata": {},
     "output_type": "execute_result"
    }
   ],
   "source": [
    "test_dum.head()"
   ]
  },
  {
   "cell_type": "code",
   "execution_count": 211,
   "metadata": {},
   "outputs": [],
   "source": [
    "Xss_test = sc_X.fit_transform(test_dum)\n",
    "\n",
    "test_SS = pd.DataFrame(Xss_test, columns=['carat', 'depth', 'table', 'volume', 'cut_Fair', 'cut_Good',\n",
    "       'cut_Ideal', 'cut_Premium', 'cut_Very Good', 'color_D', 'color_E',\n",
    "       'color_F', 'color_G', 'color_H', 'color_I', 'color_J', 'clarity_I1',\n",
    "       'clarity_IF', 'clarity_SI1', 'clarity_SI2', 'clarity_VS1',\n",
    "       'clarity_VS2', 'clarity_VVS1', 'clarity_VVS2'])"
   ]
  },
  {
   "cell_type": "markdown",
   "metadata": {},
   "source": [
    "#### Now we train our models again but with 100% of the data and take the 3 best"
   ]
  },
  {
   "cell_type": "markdown",
   "metadata": {},
   "source": [
    "#### Surprisingly, after applying the 100%, the KNN Trees model has the best rmse by far out of all the models"
   ]
  },
  {
   "cell_type": "markdown",
   "metadata": {},
   "source": [
    "### KNeighbors Regression"
   ]
  },
  {
   "cell_type": "code",
   "execution_count": 235,
   "metadata": {},
   "outputs": [],
   "source": [
    "knn_test_pred = knnreg.predict(test_SS)"
   ]
  },
  {
   "cell_type": "code",
   "execution_count": 236,
   "metadata": {},
   "outputs": [],
   "source": [
    "test_knn = pd.DataFrame(knn_test_pred, columns={\"price\"})\n",
    "test_knn[\"id\"] = index\n",
    "test_knn = test_knn[[\"id\",\"price\"]]"
   ]
  },
  {
   "cell_type": "code",
   "execution_count": 238,
   "metadata": {},
   "outputs": [],
   "source": [
    "test_knn.to_csv(\"OUTPUT/knn_dummies.csv\", index=False)"
   ]
  },
  {
   "cell_type": "markdown",
   "metadata": {},
   "source": [
    "### Bagging Regressor"
   ]
  },
  {
   "cell_type": "code",
   "execution_count": 239,
   "metadata": {},
   "outputs": [],
   "source": [
    "bgg_test_pred = bggreg.predict(test_SS)"
   ]
  },
  {
   "cell_type": "code",
   "execution_count": 240,
   "metadata": {},
   "outputs": [],
   "source": [
    "test_bgg = pd.DataFrame(bgg_test_pred, columns={\"price\"})\n",
    "test_bgg[\"id\"] = index\n",
    "test_bgg = test_bgg[[\"id\",\"price\"]]"
   ]
  },
  {
   "cell_type": "code",
   "execution_count": 242,
   "metadata": {},
   "outputs": [],
   "source": [
    "test_bgg.to_csv(\"OUTPUT/bagging_dummies.csv\", index=False)"
   ]
  },
  {
   "cell_type": "markdown",
   "metadata": {},
   "source": [
    "### Extra Trees Regressor"
   ]
  },
  {
   "cell_type": "code",
   "execution_count": 243,
   "metadata": {},
   "outputs": [],
   "source": [
    "et_test_pred = etreg.predict(test_SS)"
   ]
  },
  {
   "cell_type": "code",
   "execution_count": 244,
   "metadata": {},
   "outputs": [],
   "source": [
    "test_et = pd.DataFrame(et_test_pred, columns={\"price\"})\n",
    "test_et[\"id\"] = index\n",
    "test_et = test_et[[\"id\",\"price\"]]"
   ]
  },
  {
   "cell_type": "code",
   "execution_count": 247,
   "metadata": {},
   "outputs": [],
   "source": [
    "test_et.to_csv(\"OUTPUT/extra_trees_dummies.csv\", index=False)"
   ]
  },
  {
   "cell_type": "markdown",
   "metadata": {},
   "source": [
    "### Hist Gradient Boosting Regressor"
   ]
  },
  {
   "cell_type": "code",
   "execution_count": 250,
   "metadata": {},
   "outputs": [],
   "source": [
    "hgb_test_pred = hgbreg.predict(test_SS)"
   ]
  },
  {
   "cell_type": "code",
   "execution_count": 251,
   "metadata": {},
   "outputs": [],
   "source": [
    "test_hgb = pd.DataFrame(hgb_test_pred, columns={\"price\"})\n",
    "test_hgb[\"id\"] = index\n",
    "test_hgb = test_hgb[[\"id\",\"price\"]]"
   ]
  },
  {
   "cell_type": "code",
   "execution_count": 253,
   "metadata": {},
   "outputs": [],
   "source": [
    "test_hgb.to_csv(\"OUTPUT/hist_gradient_boosting_dummies.csv\", index=False)"
   ]
  },
  {
   "cell_type": "markdown",
   "metadata": {},
   "source": [
    "#### As conclusions:\n",
    "    - KNN overfitted our predictions, as in the test had mrse of 32 and with new data it increased to 778\n",
    "    - Bagging model seems to overfit as well the predicitons, as it increased from 250 of mrse to 549\n",
    "    - The fearest model tried untill now is Extra Trees, with 385 mrse in the test and 532 with new data\n",
    "\n",
    "As general conclusion, yes, we can say our data fits better with non linear models, due to the reasons we said before"
   ]
  }
 ],
 "metadata": {
  "kernelspec": {
   "display_name": "Python 3",
   "language": "python",
   "name": "python3"
  },
  "language_info": {
   "codemirror_mode": {
    "name": "ipython",
    "version": 3
   },
   "file_extension": ".py",
   "mimetype": "text/x-python",
   "name": "python",
   "nbconvert_exporter": "python",
   "pygments_lexer": "ipython3",
   "version": "3.7.4"
  }
 },
 "nbformat": 4,
 "nbformat_minor": 2
}
