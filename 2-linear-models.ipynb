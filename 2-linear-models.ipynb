{
 "cells": [
  {
   "cell_type": "markdown",
   "metadata": {},
   "source": [
    "# Diamonds Price Prediction - Linear Models"
   ]
  },
  {
   "cell_type": "markdown",
   "metadata": {},
   "source": [
    "#### In this notebook we will follow with the implemenation of linear models in the diamonds dataset"
   ]
  },
  {
   "cell_type": "code",
   "execution_count": 1,
   "metadata": {},
   "outputs": [
    {
     "name": "stderr",
     "output_type": "stream",
     "text": [
      "/home/diego/anaconda3/lib/python3.7/site-packages/statsmodels/tools/_testing.py:19: FutureWarning: pandas.util.testing is deprecated. Use the functions in the public API at pandas.testing instead.\n",
      "  import pandas.util.testing as tm\n"
     ]
    }
   ],
   "source": [
    "#import general libraries\n",
    "import pandas as pd\n",
    "import numpy as np\n",
    "import seaborn as sns\n",
    "import matplotlib.pyplot as plt\n",
    "%matplotlib inline"
   ]
  },
  {
   "cell_type": "markdown",
   "metadata": {},
   "source": [
    "#### Training Data"
   ]
  },
  {
   "cell_type": "code",
   "execution_count": 2,
   "metadata": {},
   "outputs": [
    {
     "name": "stdout",
     "output_type": "stream",
     "text": [
      "(40339, 9)\n"
     ]
    },
    {
     "data": {
      "text/html": [
       "<div>\n",
       "<style scoped>\n",
       "    .dataframe tbody tr th:only-of-type {\n",
       "        vertical-align: middle;\n",
       "    }\n",
       "\n",
       "    .dataframe tbody tr th {\n",
       "        vertical-align: top;\n",
       "    }\n",
       "\n",
       "    .dataframe thead th {\n",
       "        text-align: right;\n",
       "    }\n",
       "</style>\n",
       "<table border=\"1\" class=\"dataframe\">\n",
       "  <thead>\n",
       "    <tr style=\"text-align: right;\">\n",
       "      <th></th>\n",
       "      <th>Unnamed: 0</th>\n",
       "      <th>carat</th>\n",
       "      <th>cut</th>\n",
       "      <th>color</th>\n",
       "      <th>clarity</th>\n",
       "      <th>depth</th>\n",
       "      <th>table</th>\n",
       "      <th>price</th>\n",
       "      <th>volume</th>\n",
       "    </tr>\n",
       "  </thead>\n",
       "  <tbody>\n",
       "    <tr>\n",
       "      <th>0</th>\n",
       "      <td>0</td>\n",
       "      <td>1.21</td>\n",
       "      <td>Ideal</td>\n",
       "      <td>H</td>\n",
       "      <td>VS2</td>\n",
       "      <td>63.0</td>\n",
       "      <td>57.0</td>\n",
       "      <td>6134</td>\n",
       "      <td>190.734930</td>\n",
       "    </tr>\n",
       "    <tr>\n",
       "      <th>1</th>\n",
       "      <td>1</td>\n",
       "      <td>0.28</td>\n",
       "      <td>Very Good</td>\n",
       "      <td>D</td>\n",
       "      <td>VVS2</td>\n",
       "      <td>64.0</td>\n",
       "      <td>56.0</td>\n",
       "      <td>532</td>\n",
       "      <td>45.921708</td>\n",
       "    </tr>\n",
       "    <tr>\n",
       "      <th>2</th>\n",
       "      <td>2</td>\n",
       "      <td>0.42</td>\n",
       "      <td>Premium</td>\n",
       "      <td>F</td>\n",
       "      <td>VS1</td>\n",
       "      <td>61.2</td>\n",
       "      <td>58.0</td>\n",
       "      <td>1103</td>\n",
       "      <td>69.338592</td>\n",
       "    </tr>\n",
       "    <tr>\n",
       "      <th>3</th>\n",
       "      <td>3</td>\n",
       "      <td>0.26</td>\n",
       "      <td>Ideal</td>\n",
       "      <td>H</td>\n",
       "      <td>IF</td>\n",
       "      <td>61.1</td>\n",
       "      <td>57.0</td>\n",
       "      <td>600</td>\n",
       "      <td>43.362176</td>\n",
       "    </tr>\n",
       "    <tr>\n",
       "      <th>4</th>\n",
       "      <td>4</td>\n",
       "      <td>1.10</td>\n",
       "      <td>Good</td>\n",
       "      <td>G</td>\n",
       "      <td>SI1</td>\n",
       "      <td>63.4</td>\n",
       "      <td>57.0</td>\n",
       "      <td>4997</td>\n",
       "      <td>176.802840</td>\n",
       "    </tr>\n",
       "  </tbody>\n",
       "</table>\n",
       "</div>"
      ],
      "text/plain": [
       "   Unnamed: 0  carat        cut color clarity  depth  table  price      volume\n",
       "0           0   1.21      Ideal     H     VS2   63.0   57.0   6134  190.734930\n",
       "1           1   0.28  Very Good     D    VVS2   64.0   56.0    532   45.921708\n",
       "2           2   0.42    Premium     F     VS1   61.2   58.0   1103   69.338592\n",
       "3           3   0.26      Ideal     H      IF   61.1   57.0    600   43.362176\n",
       "4           4   1.10       Good     G     SI1   63.4   57.0   4997  176.802840"
      ]
     },
     "execution_count": 2,
     "metadata": {},
     "output_type": "execute_result"
    }
   ],
   "source": [
    "traindf = pd.read_csv(\"OUTPUT/cleaned_train.csv\")\n",
    "print(traindf.shape)\n",
    "traindf.head()"
   ]
  },
  {
   "cell_type": "markdown",
   "metadata": {},
   "source": [
    "#### To implement linear models in our data, we need linear data, so lets transform the categorical variables in dummies and exclude the index"
   ]
  },
  {
   "cell_type": "code",
   "execution_count": 3,
   "metadata": {},
   "outputs": [
    {
     "data": {
      "text/html": [
       "<div>\n",
       "<style scoped>\n",
       "    .dataframe tbody tr th:only-of-type {\n",
       "        vertical-align: middle;\n",
       "    }\n",
       "\n",
       "    .dataframe tbody tr th {\n",
       "        vertical-align: top;\n",
       "    }\n",
       "\n",
       "    .dataframe thead th {\n",
       "        text-align: right;\n",
       "    }\n",
       "</style>\n",
       "<table border=\"1\" class=\"dataframe\">\n",
       "  <thead>\n",
       "    <tr style=\"text-align: right;\">\n",
       "      <th></th>\n",
       "      <th>carat</th>\n",
       "      <th>depth</th>\n",
       "      <th>table</th>\n",
       "      <th>price</th>\n",
       "      <th>volume</th>\n",
       "      <th>cut_Fair</th>\n",
       "      <th>cut_Good</th>\n",
       "      <th>cut_Ideal</th>\n",
       "      <th>cut_Premium</th>\n",
       "      <th>cut_Very Good</th>\n",
       "      <th>...</th>\n",
       "      <th>color_I</th>\n",
       "      <th>color_J</th>\n",
       "      <th>clarity_I1</th>\n",
       "      <th>clarity_IF</th>\n",
       "      <th>clarity_SI1</th>\n",
       "      <th>clarity_SI2</th>\n",
       "      <th>clarity_VS1</th>\n",
       "      <th>clarity_VS2</th>\n",
       "      <th>clarity_VVS1</th>\n",
       "      <th>clarity_VVS2</th>\n",
       "    </tr>\n",
       "  </thead>\n",
       "  <tbody>\n",
       "    <tr>\n",
       "      <th>0</th>\n",
       "      <td>1.21</td>\n",
       "      <td>63.0</td>\n",
       "      <td>57.0</td>\n",
       "      <td>6134</td>\n",
       "      <td>190.734930</td>\n",
       "      <td>0</td>\n",
       "      <td>0</td>\n",
       "      <td>1</td>\n",
       "      <td>0</td>\n",
       "      <td>0</td>\n",
       "      <td>...</td>\n",
       "      <td>0</td>\n",
       "      <td>0</td>\n",
       "      <td>0</td>\n",
       "      <td>0</td>\n",
       "      <td>0</td>\n",
       "      <td>0</td>\n",
       "      <td>0</td>\n",
       "      <td>1</td>\n",
       "      <td>0</td>\n",
       "      <td>0</td>\n",
       "    </tr>\n",
       "    <tr>\n",
       "      <th>1</th>\n",
       "      <td>0.28</td>\n",
       "      <td>64.0</td>\n",
       "      <td>56.0</td>\n",
       "      <td>532</td>\n",
       "      <td>45.921708</td>\n",
       "      <td>0</td>\n",
       "      <td>0</td>\n",
       "      <td>0</td>\n",
       "      <td>0</td>\n",
       "      <td>1</td>\n",
       "      <td>...</td>\n",
       "      <td>0</td>\n",
       "      <td>0</td>\n",
       "      <td>0</td>\n",
       "      <td>0</td>\n",
       "      <td>0</td>\n",
       "      <td>0</td>\n",
       "      <td>0</td>\n",
       "      <td>0</td>\n",
       "      <td>0</td>\n",
       "      <td>1</td>\n",
       "    </tr>\n",
       "    <tr>\n",
       "      <th>2</th>\n",
       "      <td>0.42</td>\n",
       "      <td>61.2</td>\n",
       "      <td>58.0</td>\n",
       "      <td>1103</td>\n",
       "      <td>69.338592</td>\n",
       "      <td>0</td>\n",
       "      <td>0</td>\n",
       "      <td>0</td>\n",
       "      <td>1</td>\n",
       "      <td>0</td>\n",
       "      <td>...</td>\n",
       "      <td>0</td>\n",
       "      <td>0</td>\n",
       "      <td>0</td>\n",
       "      <td>0</td>\n",
       "      <td>0</td>\n",
       "      <td>0</td>\n",
       "      <td>1</td>\n",
       "      <td>0</td>\n",
       "      <td>0</td>\n",
       "      <td>0</td>\n",
       "    </tr>\n",
       "    <tr>\n",
       "      <th>3</th>\n",
       "      <td>0.26</td>\n",
       "      <td>61.1</td>\n",
       "      <td>57.0</td>\n",
       "      <td>600</td>\n",
       "      <td>43.362176</td>\n",
       "      <td>0</td>\n",
       "      <td>0</td>\n",
       "      <td>1</td>\n",
       "      <td>0</td>\n",
       "      <td>0</td>\n",
       "      <td>...</td>\n",
       "      <td>0</td>\n",
       "      <td>0</td>\n",
       "      <td>0</td>\n",
       "      <td>1</td>\n",
       "      <td>0</td>\n",
       "      <td>0</td>\n",
       "      <td>0</td>\n",
       "      <td>0</td>\n",
       "      <td>0</td>\n",
       "      <td>0</td>\n",
       "    </tr>\n",
       "    <tr>\n",
       "      <th>4</th>\n",
       "      <td>1.10</td>\n",
       "      <td>63.4</td>\n",
       "      <td>57.0</td>\n",
       "      <td>4997</td>\n",
       "      <td>176.802840</td>\n",
       "      <td>0</td>\n",
       "      <td>1</td>\n",
       "      <td>0</td>\n",
       "      <td>0</td>\n",
       "      <td>0</td>\n",
       "      <td>...</td>\n",
       "      <td>0</td>\n",
       "      <td>0</td>\n",
       "      <td>0</td>\n",
       "      <td>0</td>\n",
       "      <td>1</td>\n",
       "      <td>0</td>\n",
       "      <td>0</td>\n",
       "      <td>0</td>\n",
       "      <td>0</td>\n",
       "      <td>0</td>\n",
       "    </tr>\n",
       "  </tbody>\n",
       "</table>\n",
       "<p>5 rows × 25 columns</p>\n",
       "</div>"
      ],
      "text/plain": [
       "   carat  depth  table  price      volume  cut_Fair  cut_Good  cut_Ideal  \\\n",
       "0   1.21   63.0   57.0   6134  190.734930         0         0          1   \n",
       "1   0.28   64.0   56.0    532   45.921708         0         0          0   \n",
       "2   0.42   61.2   58.0   1103   69.338592         0         0          0   \n",
       "3   0.26   61.1   57.0    600   43.362176         0         0          1   \n",
       "4   1.10   63.4   57.0   4997  176.802840         0         1          0   \n",
       "\n",
       "   cut_Premium  cut_Very Good  ...  color_I  color_J  clarity_I1  clarity_IF  \\\n",
       "0            0              0  ...        0        0           0           0   \n",
       "1            0              1  ...        0        0           0           0   \n",
       "2            1              0  ...        0        0           0           0   \n",
       "3            0              0  ...        0        0           0           1   \n",
       "4            0              0  ...        0        0           0           0   \n",
       "\n",
       "   clarity_SI1  clarity_SI2  clarity_VS1  clarity_VS2  clarity_VVS1  \\\n",
       "0            0            0            0            1             0   \n",
       "1            0            0            0            0             0   \n",
       "2            0            0            1            0             0   \n",
       "3            0            0            0            0             0   \n",
       "4            1            0            0            0             0   \n",
       "\n",
       "   clarity_VVS2  \n",
       "0             0  \n",
       "1             1  \n",
       "2             0  \n",
       "3             0  \n",
       "4             0  \n",
       "\n",
       "[5 rows x 25 columns]"
      ]
     },
     "execution_count": 3,
     "metadata": {},
     "output_type": "execute_result"
    }
   ],
   "source": [
    "train_dum = pd.get_dummies(traindf.iloc[:,1:])\n",
    "train_dum.head()"
   ]
  },
  {
   "cell_type": "markdown",
   "metadata": {},
   "source": [
    "#### But before implementing the linear models, we have to check 3 steps:\n",
    "    - Correlation between variables\n",
    "    - How each independent variable explain price\n",
    "    - If we need to scale our data"
   ]
  },
  {
   "cell_type": "markdown",
   "metadata": {},
   "source": [
    "#### Correlation "
   ]
  },
  {
   "cell_type": "code",
   "execution_count": 4,
   "metadata": {},
   "outputs": [
    {
     "data": {
      "text/plain": [
       "<matplotlib.axes._subplots.AxesSubplot at 0x7f6e5cb78cd0>"
      ]
     },
     "execution_count": 4,
     "metadata": {},
     "output_type": "execute_result"
    },
    {
     "data": {
      "image/png": "[encoded data removed]",
      "text/plain": [
       "<Figure size 792x792 with 2 Axes>"
      ]
     },
     "metadata": {
      "needs_background": "light"
     },
     "output_type": "display_data"
    }
   ],
   "source": [
    "# Generate a mask for the upper triangle\n",
    "#mask = np.triu(np.ones_like(train_dum.corr(), dtype=np.bool))\n",
    "#I let the mask here in case someone prefers to apply it, however I see more clear inputs without the mask\n",
    "\n",
    "plt.figure(figsize=(11, 11))\n",
    "\n",
    "# Generate a custom diverging colormap\n",
    "cmap = sns.diverging_palette(220, 10, as_cmap=True)\n",
    "\n",
    "# Draw the heatmap with the mask and correct aspect ratio\n",
    "sns.heatmap(train_dum.corr(), mask=None, cmap=cmap, vmax=1, center=0,\n",
    "            square=True, linewidths=.5, cbar_kws={\"shrink\": .5})"
   ]
  },
  {
   "cell_type": "markdown",
   "metadata": {},
   "source": [
    "#### As we have seen in the descriptive analysis, the price is highly correlated with carat and volume and also these to independet variables too. The problem with the corr between the 2 independent variables is that it causes the predictive coefficients to be unstable, because the \"independent variables\" have become \"dependent\". So we are going to do an OLS regression using statsmodels, to check the effect of the independent variables on the dependent one"
   ]
  },
  {
   "cell_type": "code",
   "execution_count": 5,
   "metadata": {},
   "outputs": [],
   "source": [
    "X_t = train_dum.drop(columns={\"price\"})\n",
    "y_t = train_dum.price"
   ]
  },
  {
   "cell_type": "code",
   "execution_count": 6,
   "metadata": {},
   "outputs": [
    {
     "name": "stdout",
     "output_type": "stream",
     "text": [
      "1149.4188308870382\n"
     ]
    },
    {
     "data": {
      "text/html": [
       "<table class=\"simpletable\">\n",
       "<caption>OLS Regression Results</caption>\n",
       "<tr>\n",
       "  <th>Dep. Variable:</th>          <td>price</td>      <th>  R-squared:         </th>  <td>   0.917</td>  \n",
       "</tr>\n",
       "<tr>\n",
       "  <th>Model:</th>                   <td>OLS</td>       <th>  Adj. R-squared:    </th>  <td>   0.917</td>  \n",
       "</tr>\n",
       "<tr>\n",
       "  <th>Method:</th>             <td>Least Squares</td>  <th>  F-statistic:       </th>  <td>2.111e+04</td> \n",
       "</tr>\n",
       "<tr>\n",
       "  <th>Date:</th>             <td>Sun, 10 May 2020</td> <th>  Prob (F-statistic):</th>   <td>  0.00</td>   \n",
       "</tr>\n",
       "<tr>\n",
       "  <th>Time:</th>                 <td>02:06:08</td>     <th>  Log-Likelihood:    </th> <td>-3.4151e+05</td>\n",
       "</tr>\n",
       "<tr>\n",
       "  <th>No. Observations:</th>      <td> 40339</td>      <th>  AIC:               </th>  <td>6.831e+05</td> \n",
       "</tr>\n",
       "<tr>\n",
       "  <th>Df Residuals:</th>          <td> 40317</td>      <th>  BIC:               </th>  <td>6.832e+05</td> \n",
       "</tr>\n",
       "<tr>\n",
       "  <th>Df Model:</th>              <td>    21</td>      <th>                     </th>      <td> </td>     \n",
       "</tr>\n",
       "<tr>\n",
       "  <th>Covariance Type:</th>      <td>nonrobust</td>    <th>                     </th>      <td> </td>     \n",
       "</tr>\n",
       "</table>\n",
       "<table class=\"simpletable\">\n",
       "<tr>\n",
       "        <td></td>           <th>coef</th>     <th>std err</th>      <th>t</th>      <th>P>|t|</th>  <th>[0.025</th>    <th>0.975]</th>  \n",
       "</tr>\n",
       "<tr>\n",
       "  <th>const</th>         <td> -820.3748</td> <td>  282.842</td> <td>   -2.900</td> <td> 0.004</td> <td>-1374.751</td> <td> -265.999</td>\n",
       "</tr>\n",
       "<tr>\n",
       "  <th>carat</th>         <td> 8815.3800</td> <td>   51.515</td> <td>  171.122</td> <td> 0.000</td> <td> 8714.409</td> <td> 8916.351</td>\n",
       "</tr>\n",
       "<tr>\n",
       "  <th>depth</th>         <td>  -18.2060</td> <td>    4.718</td> <td>   -3.859</td> <td> 0.000</td> <td>  -27.453</td> <td>   -8.959</td>\n",
       "</tr>\n",
       "<tr>\n",
       "  <th>table</th>         <td>  -23.8873</td> <td>    3.418</td> <td>   -6.989</td> <td> 0.000</td> <td>  -30.586</td> <td>  -17.188</td>\n",
       "</tr>\n",
       "<tr>\n",
       "  <th>volume</th>        <td>    0.7376</td> <td>    0.306</td> <td>    2.409</td> <td> 0.016</td> <td>    0.138</td> <td>    1.338</td>\n",
       "</tr>\n",
       "<tr>\n",
       "  <th>cut_Fair</th>      <td> -772.7999</td> <td>   72.215</td> <td>  -10.701</td> <td> 0.000</td> <td> -914.343</td> <td> -631.257</td>\n",
       "</tr>\n",
       "<tr>\n",
       "  <th>cut_Good</th>      <td> -157.1419</td> <td>   61.084</td> <td>   -2.573</td> <td> 0.010</td> <td> -276.868</td> <td>  -37.415</td>\n",
       "</tr>\n",
       "<tr>\n",
       "  <th>cut_Ideal</th>     <td>   93.1201</td> <td>   50.386</td> <td>    1.848</td> <td> 0.065</td> <td>   -5.637</td> <td>  191.877</td>\n",
       "</tr>\n",
       "<tr>\n",
       "  <th>cut_Premium</th>   <td>   22.9246</td> <td>   55.557</td> <td>    0.413</td> <td> 0.680</td> <td>  -85.968</td> <td>  131.817</td>\n",
       "</tr>\n",
       "<tr>\n",
       "  <th>cut_Very Good</th> <td>   -6.4777</td> <td>   55.945</td> <td>   -0.116</td> <td> 0.908</td> <td> -116.131</td> <td>  103.175</td>\n",
       "</tr>\n",
       "<tr>\n",
       "  <th>color_D</th>       <td>  708.5097</td> <td>   42.978</td> <td>   16.485</td> <td> 0.000</td> <td>  624.271</td> <td>  792.748</td>\n",
       "</tr>\n",
       "<tr>\n",
       "  <th>color_E</th>       <td>  500.8047</td> <td>   42.228</td> <td>   11.859</td> <td> 0.000</td> <td>  418.036</td> <td>  583.573</td>\n",
       "</tr>\n",
       "<tr>\n",
       "  <th>color_F</th>       <td>  401.8368</td> <td>   42.140</td> <td>    9.536</td> <td> 0.000</td> <td>  319.242</td> <td>  484.432</td>\n",
       "</tr>\n",
       "<tr>\n",
       "  <th>color_G</th>       <td>  202.3346</td> <td>   42.155</td> <td>    4.800</td> <td> 0.000</td> <td>  119.710</td> <td>  284.960</td>\n",
       "</tr>\n",
       "<tr>\n",
       "  <th>color_H</th>       <td> -278.0395</td> <td>   42.857</td> <td>   -6.488</td> <td> 0.000</td> <td> -362.040</td> <td> -194.040</td>\n",
       "</tr>\n",
       "<tr>\n",
       "  <th>color_I</th>       <td> -733.2558</td> <td>   44.113</td> <td>  -16.622</td> <td> 0.000</td> <td> -819.719</td> <td> -646.793</td>\n",
       "</tr>\n",
       "<tr>\n",
       "  <th>color_J</th>       <td>-1622.5652</td> <td>   46.947</td> <td>  -34.561</td> <td> 0.000</td> <td>-1714.583</td> <td>-1530.547</td>\n",
       "</tr>\n",
       "<tr>\n",
       "  <th>clarity_I1</th>    <td>-3800.0003</td> <td>   58.190</td> <td>  -65.303</td> <td> 0.000</td> <td>-3914.054</td> <td>-3685.946</td>\n",
       "</tr>\n",
       "<tr>\n",
       "  <th>clarity_IF</th>    <td> 1511.2604</td> <td>   44.686</td> <td>   33.819</td> <td> 0.000</td> <td> 1423.674</td> <td> 1598.846</td>\n",
       "</tr>\n",
       "<tr>\n",
       "  <th>clarity_SI1</th>   <td> -354.7603</td> <td>   38.166</td> <td>   -9.295</td> <td> 0.000</td> <td> -429.566</td> <td> -279.955</td>\n",
       "</tr>\n",
       "<tr>\n",
       "  <th>clarity_SI2</th>   <td>-1298.4922</td> <td>   38.724</td> <td>  -33.532</td> <td> 0.000</td> <td>-1374.392</td> <td>-1222.592</td>\n",
       "</tr>\n",
       "<tr>\n",
       "  <th>clarity_VS1</th>   <td>  603.7396</td> <td>   38.241</td> <td>   15.788</td> <td> 0.000</td> <td>  528.787</td> <td>  678.693</td>\n",
       "</tr>\n",
       "<tr>\n",
       "  <th>clarity_VS2</th>   <td>  292.7714</td> <td>   37.851</td> <td>    7.735</td> <td> 0.000</td> <td>  218.583</td> <td>  366.959</td>\n",
       "</tr>\n",
       "<tr>\n",
       "  <th>clarity_VVS1</th>  <td> 1169.2542</td> <td>   40.944</td> <td>   28.557</td> <td> 0.000</td> <td> 1089.003</td> <td> 1249.506</td>\n",
       "</tr>\n",
       "<tr>\n",
       "  <th>clarity_VVS2</th>  <td> 1055.8525</td> <td>   39.479</td> <td>   26.744</td> <td> 0.000</td> <td>  978.472</td> <td> 1133.233</td>\n",
       "</tr>\n",
       "</table>\n",
       "<table class=\"simpletable\">\n",
       "<tr>\n",
       "  <th>Omnibus:</th>       <td>11462.946</td> <th>  Durbin-Watson:     </th>  <td>   2.005</td> \n",
       "</tr>\n",
       "<tr>\n",
       "  <th>Prob(Omnibus):</th>  <td> 0.000</td>   <th>  Jarque-Bera (JB):  </th> <td>104715.125</td>\n",
       "</tr>\n",
       "<tr>\n",
       "  <th>Skew:</th>           <td> 1.105</td>   <th>  Prob(JB):          </th>  <td>    0.00</td> \n",
       "</tr>\n",
       "<tr>\n",
       "  <th>Kurtosis:</th>       <td>10.577</td>   <th>  Cond. No.          </th>  <td>1.91e+18</td> \n",
       "</tr>\n",
       "</table><br/><br/>Warnings:<br/>[1] Standard Errors assume that the covariance matrix of the errors is correctly specified.<br/>[2] The smallest eigenvalue is 3.15e-28. This might indicate that there are<br/>strong multicollinearity problems or that the design matrix is singular."
      ],
      "text/plain": [
       "<class 'statsmodels.iolib.summary.Summary'>\n",
       "\"\"\"\n",
       "                            OLS Regression Results                            \n",
       "==============================================================================\n",
       "Dep. Variable:                  price   R-squared:                       0.917\n",
       "Model:                            OLS   Adj. R-squared:                  0.917\n",
       "Method:                 Least Squares   F-statistic:                 2.111e+04\n",
       "Date:                Sun, 10 May 2020   Prob (F-statistic):               0.00\n",
       "Time:                        02:06:08   Log-Likelihood:            -3.4151e+05\n",
       "No. Observations:               40339   AIC:                         6.831e+05\n",
       "Df Residuals:                   40317   BIC:                         6.832e+05\n",
       "Df Model:                          21                                         \n",
       "Covariance Type:            nonrobust                                         \n",
       "=================================================================================\n",
       "                    coef    std err          t      P>|t|      [0.025      0.975]\n",
       "---------------------------------------------------------------------------------\n",
       "const          -820.3748    282.842     -2.900      0.004   -1374.751    -265.999\n",
       "carat          8815.3800     51.515    171.122      0.000    8714.409    8916.351\n",
       "depth           -18.2060      4.718     -3.859      0.000     -27.453      -8.959\n",
       "table           -23.8873      3.418     -6.989      0.000     -30.586     -17.188\n",
       "volume            0.7376      0.306      2.409      0.016       0.138       1.338\n",
       "cut_Fair       -772.7999     72.215    -10.701      0.000    -914.343    -631.257\n",
       "cut_Good       -157.1419     61.084     -2.573      0.010    -276.868     -37.415\n",
       "cut_Ideal        93.1201     50.386      1.848      0.065      -5.637     191.877\n",
       "cut_Premium      22.9246     55.557      0.413      0.680     -85.968     131.817\n",
       "cut_Very Good    -6.4777     55.945     -0.116      0.908    -116.131     103.175\n",
       "color_D         708.5097     42.978     16.485      0.000     624.271     792.748\n",
       "color_E         500.8047     42.228     11.859      0.000     418.036     583.573\n",
       "color_F         401.8368     42.140      9.536      0.000     319.242     484.432\n",
       "color_G         202.3346     42.155      4.800      0.000     119.710     284.960\n",
       "color_H        -278.0395     42.857     -6.488      0.000    -362.040    -194.040\n",
       "color_I        -733.2558     44.113    -16.622      0.000    -819.719    -646.793\n",
       "color_J       -1622.5652     46.947    -34.561      0.000   -1714.583   -1530.547\n",
       "clarity_I1    -3800.0003     58.190    -65.303      0.000   -3914.054   -3685.946\n",
       "clarity_IF     1511.2604     44.686     33.819      0.000    1423.674    1598.846\n",
       "clarity_SI1    -354.7603     38.166     -9.295      0.000    -429.566    -279.955\n",
       "clarity_SI2   -1298.4922     38.724    -33.532      0.000   -1374.392   -1222.592\n",
       "clarity_VS1     603.7396     38.241     15.788      0.000     528.787     678.693\n",
       "clarity_VS2     292.7714     37.851      7.735      0.000     218.583     366.959\n",
       "clarity_VVS1   1169.2542     40.944     28.557      0.000    1089.003    1249.506\n",
       "clarity_VVS2   1055.8525     39.479     26.744      0.000     978.472    1133.233\n",
       "==============================================================================\n",
       "Omnibus:                    11462.946   Durbin-Watson:                   2.005\n",
       "Prob(Omnibus):                  0.000   Jarque-Bera (JB):           104715.125\n",
       "Skew:                           1.105   Prob(JB):                         0.00\n",
       "Kurtosis:                      10.577   Cond. No.                     1.91e+18\n",
       "==============================================================================\n",
       "\n",
       "Warnings:\n",
       "[1] Standard Errors assume that the covariance matrix of the errors is correctly specified.\n",
       "[2] The smallest eigenvalue is 3.15e-28. This might indicate that there are\n",
       "strong multicollinearity problems or that the design matrix is singular.\n",
       "\"\"\""
      ]
     },
     "execution_count": 6,
     "metadata": {},
     "output_type": "execute_result"
    }
   ],
   "source": [
    "import statsmodels.api as sm\n",
    "from statsmodels.regression.linear_model import OLS\n",
    "from statsmodels.tools.eval_measures import rmse\n",
    "\n",
    "X = X_t\n",
    "X = sm.add_constant(X_t)\n",
    "y = y_t\n",
    "model = sm.OLS(y, X).fit()\n",
    "y_pred = model.predict(X)\n",
    "resi = rmse(y, y_pred)\n",
    "print(resi)\n",
    "model.summary()"
   ]
  },
  {
   "cell_type": "markdown",
   "metadata": {},
   "source": [
    "#### We can see the columns cut Ideal, Premium and Vergy Good are not significant and Volume isn't at 1% significance level so we are going to try again without these vars to check if the rmse of our model improves"
   ]
  },
  {
   "cell_type": "code",
   "execution_count": 7,
   "metadata": {},
   "outputs": [],
   "source": [
    "X_t2 = train_dum.drop(columns={\"price\",\"volume\",\"cut_Very Good\",\"cut_Ideal\",\"cut_Premium\" })"
   ]
  },
  {
   "cell_type": "code",
   "execution_count": 8,
   "metadata": {
    "scrolled": false
   },
   "outputs": [
    {
     "name": "stdout",
     "output_type": "stream",
     "text": [
      "1150.0282365522778\n"
     ]
    },
    {
     "data": {
      "text/html": [
       "<table class=\"simpletable\">\n",
       "<caption>OLS Regression Results</caption>\n",
       "<tr>\n",
       "  <th>Dep. Variable:</th>          <td>price</td>      <th>  R-squared:         </th>  <td>   0.917</td>  \n",
       "</tr>\n",
       "<tr>\n",
       "  <th>Model:</th>                   <td>OLS</td>       <th>  Adj. R-squared:    </th>  <td>   0.917</td>  \n",
       "</tr>\n",
       "<tr>\n",
       "  <th>Method:</th>             <td>Least Squares</td>  <th>  F-statistic:       </th>  <td>2.460e+04</td> \n",
       "</tr>\n",
       "<tr>\n",
       "  <th>Date:</th>             <td>Sun, 10 May 2020</td> <th>  Prob (F-statistic):</th>   <td>  0.00</td>   \n",
       "</tr>\n",
       "<tr>\n",
       "  <th>Time:</th>                 <td>02:06:08</td>     <th>  Log-Likelihood:    </th> <td>-3.4153e+05</td>\n",
       "</tr>\n",
       "<tr>\n",
       "  <th>No. Observations:</th>      <td> 40339</td>      <th>  AIC:               </th>  <td>6.831e+05</td> \n",
       "</tr>\n",
       "<tr>\n",
       "  <th>Df Residuals:</th>          <td> 40320</td>      <th>  BIC:               </th>  <td>6.833e+05</td> \n",
       "</tr>\n",
       "<tr>\n",
       "  <th>Df Model:</th>              <td>    18</td>      <th>                     </th>      <td> </td>     \n",
       "</tr>\n",
       "<tr>\n",
       "  <th>Covariance Type:</th>      <td>nonrobust</td>    <th>                     </th>      <td> </td>     \n",
       "</tr>\n",
       "</table>\n",
       "<table class=\"simpletable\">\n",
       "<tr>\n",
       "        <td></td>          <th>coef</th>     <th>std err</th>      <th>t</th>      <th>P>|t|</th>  <th>[0.025</th>    <th>0.975]</th>  \n",
       "</tr>\n",
       "<tr>\n",
       "  <th>const</th>        <td>  -26.3884</td> <td>  300.972</td> <td>   -0.088</td> <td> 0.930</td> <td> -616.300</td> <td>  563.523</td>\n",
       "</tr>\n",
       "<tr>\n",
       "  <th>carat</th>        <td> 8933.4634</td> <td>   13.962</td> <td>  639.841</td> <td> 0.000</td> <td> 8906.098</td> <td> 8960.829</td>\n",
       "</tr>\n",
       "<tr>\n",
       "  <th>depth</th>        <td>  -24.2600</td> <td>    4.624</td> <td>   -5.247</td> <td> 0.000</td> <td>  -33.323</td> <td>  -15.197</td>\n",
       "</tr>\n",
       "<tr>\n",
       "  <th>table</th>        <td>  -34.0668</td> <td>    2.910</td> <td>  -11.708</td> <td> 0.000</td> <td>  -39.770</td> <td>  -28.364</td>\n",
       "</tr>\n",
       "<tr>\n",
       "  <th>cut_Fair</th>     <td> -788.7890</td> <td>   37.187</td> <td>  -21.212</td> <td> 0.000</td> <td> -861.676</td> <td> -715.902</td>\n",
       "</tr>\n",
       "<tr>\n",
       "  <th>cut_Good</th>     <td> -186.0689</td> <td>   20.895</td> <td>   -8.905</td> <td> 0.000</td> <td> -227.023</td> <td> -145.115</td>\n",
       "</tr>\n",
       "<tr>\n",
       "  <th>color_D</th>      <td>  823.1917</td> <td>   45.298</td> <td>   18.173</td> <td> 0.000</td> <td>  734.406</td> <td>  911.977</td>\n",
       "</tr>\n",
       "<tr>\n",
       "  <th>color_E</th>      <td>  613.5122</td> <td>   44.692</td> <td>   13.728</td> <td> 0.000</td> <td>  525.915</td> <td>  701.109</td>\n",
       "</tr>\n",
       "<tr>\n",
       "  <th>color_F</th>      <td>  514.3130</td> <td>   44.630</td> <td>   11.524</td> <td> 0.000</td> <td>  426.838</td> <td>  601.788</td>\n",
       "</tr>\n",
       "<tr>\n",
       "  <th>color_G</th>      <td>  316.1526</td> <td>   44.629</td> <td>    7.084</td> <td> 0.000</td> <td>  228.679</td> <td>  403.626</td>\n",
       "</tr>\n",
       "<tr>\n",
       "  <th>color_H</th>      <td> -165.1011</td> <td>   45.383</td> <td>   -3.638</td> <td> 0.000</td> <td> -254.054</td> <td>  -76.148</td>\n",
       "</tr>\n",
       "<tr>\n",
       "  <th>color_I</th>      <td> -618.5355</td> <td>   46.461</td> <td>  -13.313</td> <td> 0.000</td> <td> -709.599</td> <td> -527.472</td>\n",
       "</tr>\n",
       "<tr>\n",
       "  <th>color_J</th>      <td>-1509.9214</td> <td>   49.317</td> <td>  -30.617</td> <td> 0.000</td> <td>-1606.583</td> <td>-1413.260</td>\n",
       "</tr>\n",
       "<tr>\n",
       "  <th>clarity_I1</th>   <td>-3702.9193</td> <td>   60.034</td> <td>  -61.680</td> <td> 0.000</td> <td>-3820.588</td> <td>-3585.250</td>\n",
       "</tr>\n",
       "<tr>\n",
       "  <th>clarity_IF</th>   <td> 1619.1612</td> <td>   45.807</td> <td>   35.347</td> <td> 0.000</td> <td> 1529.378</td> <td> 1708.945</td>\n",
       "</tr>\n",
       "<tr>\n",
       "  <th>clarity_SI1</th>  <td> -260.0570</td> <td>   40.588</td> <td>   -6.407</td> <td> 0.000</td> <td> -339.609</td> <td> -180.505</td>\n",
       "</tr>\n",
       "<tr>\n",
       "  <th>clarity_SI2</th>  <td>-1204.2441</td> <td>   41.143</td> <td>  -29.270</td> <td> 0.000</td> <td>-1284.885</td> <td>-1123.603</td>\n",
       "</tr>\n",
       "<tr>\n",
       "  <th>clarity_VS1</th>  <td>  702.4763</td> <td>   40.308</td> <td>   17.428</td> <td> 0.000</td> <td>  623.472</td> <td>  781.480</td>\n",
       "</tr>\n",
       "<tr>\n",
       "  <th>clarity_VS2</th>  <td>  391.2267</td> <td>   40.021</td> <td>    9.775</td> <td> 0.000</td> <td>  312.784</td> <td>  469.669</td>\n",
       "</tr>\n",
       "<tr>\n",
       "  <th>clarity_VVS1</th> <td> 1272.0367</td> <td>   42.583</td> <td>   29.872</td> <td> 0.000</td> <td> 1188.573</td> <td> 1355.500</td>\n",
       "</tr>\n",
       "<tr>\n",
       "  <th>clarity_VVS2</th> <td> 1155.9309</td> <td>   41.305</td> <td>   27.985</td> <td> 0.000</td> <td> 1074.972</td> <td> 1236.890</td>\n",
       "</tr>\n",
       "</table>\n",
       "<table class=\"simpletable\">\n",
       "<tr>\n",
       "  <th>Omnibus:</th>       <td>11426.265</td> <th>  Durbin-Watson:     </th>  <td>   2.006</td> \n",
       "</tr>\n",
       "<tr>\n",
       "  <th>Prob(Omnibus):</th>  <td> 0.000</td>   <th>  Jarque-Bera (JB):  </th> <td>104410.999</td>\n",
       "</tr>\n",
       "<tr>\n",
       "  <th>Skew:</th>           <td> 1.101</td>   <th>  Prob(JB):          </th>  <td>    0.00</td> \n",
       "</tr>\n",
       "<tr>\n",
       "  <th>Kurtosis:</th>       <td>10.568</td>   <th>  Cond. No.          </th>  <td>7.00e+17</td> \n",
       "</tr>\n",
       "</table><br/><br/>Warnings:<br/>[1] Standard Errors assume that the covariance matrix of the errors is correctly specified.<br/>[2] The smallest eigenvalue is 5.86e-28. This might indicate that there are<br/>strong multicollinearity problems or that the design matrix is singular."
      ],
      "text/plain": [
       "<class 'statsmodels.iolib.summary.Summary'>\n",
       "\"\"\"\n",
       "                            OLS Regression Results                            \n",
       "==============================================================================\n",
       "Dep. Variable:                  price   R-squared:                       0.917\n",
       "Model:                            OLS   Adj. R-squared:                  0.917\n",
       "Method:                 Least Squares   F-statistic:                 2.460e+04\n",
       "Date:                Sun, 10 May 2020   Prob (F-statistic):               0.00\n",
       "Time:                        02:06:08   Log-Likelihood:            -3.4153e+05\n",
       "No. Observations:               40339   AIC:                         6.831e+05\n",
       "Df Residuals:                   40320   BIC:                         6.833e+05\n",
       "Df Model:                          18                                         \n",
       "Covariance Type:            nonrobust                                         \n",
       "================================================================================\n",
       "                   coef    std err          t      P>|t|      [0.025      0.975]\n",
       "--------------------------------------------------------------------------------\n",
       "const          -26.3884    300.972     -0.088      0.930    -616.300     563.523\n",
       "carat         8933.4634     13.962    639.841      0.000    8906.098    8960.829\n",
       "depth          -24.2600      4.624     -5.247      0.000     -33.323     -15.197\n",
       "table          -34.0668      2.910    -11.708      0.000     -39.770     -28.364\n",
       "cut_Fair      -788.7890     37.187    -21.212      0.000    -861.676    -715.902\n",
       "cut_Good      -186.0689     20.895     -8.905      0.000    -227.023    -145.115\n",
       "color_D        823.1917     45.298     18.173      0.000     734.406     911.977\n",
       "color_E        613.5122     44.692     13.728      0.000     525.915     701.109\n",
       "color_F        514.3130     44.630     11.524      0.000     426.838     601.788\n",
       "color_G        316.1526     44.629      7.084      0.000     228.679     403.626\n",
       "color_H       -165.1011     45.383     -3.638      0.000    -254.054     -76.148\n",
       "color_I       -618.5355     46.461    -13.313      0.000    -709.599    -527.472\n",
       "color_J      -1509.9214     49.317    -30.617      0.000   -1606.583   -1413.260\n",
       "clarity_I1   -3702.9193     60.034    -61.680      0.000   -3820.588   -3585.250\n",
       "clarity_IF    1619.1612     45.807     35.347      0.000    1529.378    1708.945\n",
       "clarity_SI1   -260.0570     40.588     -6.407      0.000    -339.609    -180.505\n",
       "clarity_SI2  -1204.2441     41.143    -29.270      0.000   -1284.885   -1123.603\n",
       "clarity_VS1    702.4763     40.308     17.428      0.000     623.472     781.480\n",
       "clarity_VS2    391.2267     40.021      9.775      0.000     312.784     469.669\n",
       "clarity_VVS1  1272.0367     42.583     29.872      0.000    1188.573    1355.500\n",
       "clarity_VVS2  1155.9309     41.305     27.985      0.000    1074.972    1236.890\n",
       "==============================================================================\n",
       "Omnibus:                    11426.265   Durbin-Watson:                   2.006\n",
       "Prob(Omnibus):                  0.000   Jarque-Bera (JB):           104410.999\n",
       "Skew:                           1.101   Prob(JB):                         0.00\n",
       "Kurtosis:                      10.568   Cond. No.                     7.00e+17\n",
       "==============================================================================\n",
       "\n",
       "Warnings:\n",
       "[1] Standard Errors assume that the covariance matrix of the errors is correctly specified.\n",
       "[2] The smallest eigenvalue is 5.86e-28. This might indicate that there are\n",
       "strong multicollinearity problems or that the design matrix is singular.\n",
       "\"\"\""
      ]
     },
     "execution_count": 8,
     "metadata": {},
     "output_type": "execute_result"
    }
   ],
   "source": [
    "X = X_t2\n",
    "X = sm.add_constant(X_t2)\n",
    "y = y_t\n",
    "model = sm.OLS(y, X).fit()\n",
    "y_pred = model.predict(X)\n",
    "resi2 = rmse(y, y_pred)\n",
    "print(resi2)\n",
    "model.summary()"
   ]
  },
  {
   "cell_type": "markdown",
   "metadata": {},
   "source": [
    "#### As we see, excluding that columns made our rmse a bit higher, so we will not exclude any columns to train our models. But before training our models, lets see if the data needs to be scaled"
   ]
  },
  {
   "cell_type": "code",
   "execution_count": 9,
   "metadata": {},
   "outputs": [
    {
     "data": {
      "image/png": "[encoded data removed]",
      "text/plain": [
       "<Figure size 1080x720 with 4 Axes>"
      ]
     },
     "metadata": {
      "needs_background": "light"
     },
     "output_type": "display_data"
    }
   ],
   "source": [
    "X_notdum = train_dum.iloc[:,[0,1,2,4]]\n",
    "\n",
    "figure = plt.figure(figsize=(15,10))\n",
    "\n",
    "for n, col in enumerate(X_notdum.columns):\n",
    "    ax = figure.add_subplot(3,4,n+1)\n",
    "    ax.set_title(col)\n",
    "    X_notdum[col].hist(ax=ax, bins=50)\n",
    "    \n",
    "figure.tight_layout() #this feature separate the graphs correctly\n",
    "plt.show()"
   ]
  },
  {
   "cell_type": "markdown",
   "metadata": {},
   "source": [
    "#### We can see there is a big difference between the values of the explanatory variables so it is better to scale our data"
   ]
  },
  {
   "cell_type": "code",
   "execution_count": 10,
   "metadata": {},
   "outputs": [
    {
     "data": {
      "image/png": "[encoded data removed]",
      "text/plain": [
       "<Figure size 1080x360 with 2 Axes>"
      ]
     },
     "metadata": {
      "needs_background": "light"
     },
     "output_type": "display_data"
    }
   ],
   "source": [
    "from sklearn.preprocessing import StandardScaler\n",
    "sc_X = StandardScaler()\n",
    "\n",
    "Xss = sc_X.fit_transform(X_t)\n",
    "\n",
    "train_SS = pd.DataFrame(Xss, columns=['carat', 'depth', 'table', 'volume', 'cut_Fair', 'cut_Good',\n",
    "       'cut_Ideal', 'cut_Premium', 'cut_Very Good', 'color_D', 'color_E',\n",
    "       'color_F', 'color_G', 'color_H', 'color_I', 'color_J', 'clarity_I1',\n",
    "       'clarity_IF', 'clarity_SI1', 'clarity_SI2', 'clarity_VS1',\n",
    "       'clarity_VS2', 'clarity_VVS1', 'clarity_VVS2'])\n",
    "\n",
    "fig, (ax1, ax2) = plt.subplots(ncols=2, figsize=(15, 5))\n",
    "ax1.set_title('Before Scaling')\n",
    "for e in X_t.columns:\n",
    "    sns.kdeplot(X_t[e], ax=ax1)\n",
    "ax2.set_title('After Standard Scaling')\n",
    "for e in train_SS.columns:\n",
    "    sns.kdeplot(train_SS[e], ax=ax2, legend=None)\n",
    "plt.show()"
   ]
  },
  {
   "cell_type": "code",
   "execution_count": 11,
   "metadata": {},
   "outputs": [
    {
     "data": {
      "image/png": "[encoded data removed]",
      "text/plain": [
       "<Figure size 1080x360 with 2 Axes>"
      ]
     },
     "metadata": {
      "needs_background": "light"
     },
     "output_type": "display_data"
    }
   ],
   "source": [
    "from sklearn.preprocessing import MinMaxScaler\n",
    "mmc_X = MinMaxScaler()\n",
    "\n",
    "Xmm = mmc_X.fit_transform(X_t)\n",
    "\n",
    "train_MM = pd.DataFrame(Xmm, columns=['carat', 'depth', 'table', 'volume', 'cut_Fair', 'cut_Good',\n",
    "       'cut_Ideal', 'cut_Premium', 'cut_Very Good', 'color_D', 'color_E',\n",
    "       'color_F', 'color_G', 'color_H', 'color_I', 'color_J', 'clarity_I1',\n",
    "       'clarity_IF', 'clarity_SI1', 'clarity_SI2', 'clarity_VS1',\n",
    "       'clarity_VS2', 'clarity_VVS1', 'clarity_VVS2'])\n",
    "\n",
    "fig, (ax1, ax2) = plt.subplots(ncols=2, figsize=(15, 5))\n",
    "ax1.set_title('Before Scaling')\n",
    "for e in X_t.columns:\n",
    "    sns.kdeplot(X_t[e], ax=ax1)\n",
    "ax2.set_title('After Min-Max Scaling')\n",
    "for e in train_MM.columns:\n",
    "    sns.kdeplot(train_MM[e], ax=ax2, legend=None)\n",
    "plt.show()"
   ]
  },
  {
   "cell_type": "markdown",
   "metadata": {},
   "source": [
    "#### After processing the data, the standard scaler looks better to train our models"
   ]
  },
  {
   "cell_type": "code",
   "execution_count": 12,
   "metadata": {},
   "outputs": [
    {
     "name": "stdout",
     "output_type": "stream",
     "text": [
      "(32271, 24) (8068, 24) (32271,) (8068,)\n"
     ]
    }
   ],
   "source": [
    "from sklearn.metrics import mean_squared_error, r2_score \n",
    "from sklearn.model_selection import train_test_split\n",
    "\n",
    "X = train_SS\n",
    "y = np.ravel(y_t) #we use np.ravel to change shape (x,1) to (x,)\n",
    "\n",
    "X_train, X_test, y_train, y_test = train_test_split(X, y, test_size=0.2)\n",
    "print(X_train.shape, X_test.shape, y_train.shape, y_test.shape)"
   ]
  },
  {
   "cell_type": "code",
   "execution_count": 45,
   "metadata": {},
   "outputs": [],
   "source": [
    "#1st select the splited X and y. Then after your model achieves the accuracy needed, train with 100% X and y\n",
    "#However if you thing you could be overfitting your data you can use the splited model to test\n",
    "# X, y ----- X_train, y_train\n",
    "X_training = X\n",
    "y_training = y"
   ]
  },
  {
   "cell_type": "markdown",
   "metadata": {},
   "source": [
    "### Linear Regression"
   ]
  },
  {
   "cell_type": "code",
   "execution_count": 46,
   "metadata": {},
   "outputs": [],
   "source": [
    "from sklearn.linear_model import LinearRegression\n",
    "\n",
    "lreg = LinearRegression(fit_intercept=True, normalize=False).fit(X_training, y_training) \n",
    "  \n",
    "lreg_pred = lreg.predict(X_test)"
   ]
  },
  {
   "cell_type": "code",
   "execution_count": 47,
   "metadata": {
    "scrolled": true
   },
   "outputs": [
    {
     "name": "stdout",
     "output_type": "stream",
     "text": [
      "r2: 0.9142224167271978 rmse: 1154.3942096134883\n"
     ]
    }
   ],
   "source": [
    "lreg_r2 = lreg.score(X_test, y_test)\n",
    "\n",
    "lreg_rmse = mean_squared_error(y_test, lreg_pred, sample_weight=None, multioutput='uniform_average', squared=False)\n",
    "\n",
    "print(\"r2:\",lreg_r2,\"rmse:\",lreg_rmse)"
   ]
  },
  {
   "cell_type": "markdown",
   "metadata": {},
   "source": [
    "#### Check for Heteroskedasticity --> there will be if the residuals don't have a constant variance"
   ]
  },
  {
   "cell_type": "code",
   "execution_count": 48,
   "metadata": {},
   "outputs": [
    {
     "data": {
      "text/plain": [
       "Text(0.5, 1.0, 'Residual plot')"
      ]
     },
     "execution_count": 48,
     "metadata": {},
     "output_type": "execute_result"
    },
    {
     "data": {
      "image/png": "[encoded data removed]",
      "text/plain": [
       "<Figure size 432x288 with 1 Axes>"
      ]
     },
     "metadata": {
      "needs_background": "light"
     },
     "output_type": "display_data"
    }
   ],
   "source": [
    "plt.scatter(lreg_pred, (lreg_pred - y_test), c='b')\n",
    "\n",
    "plt.hlines(y=0, xmin= -1000, xmax=20000)\n",
    "\n",
    "plt.title('Residual plot')"
   ]
  },
  {
   "cell_type": "markdown",
   "metadata": {},
   "source": [
    "#### We can see there is Heteroskedasticity as the variance of the residuals get broader when x rises, so we will use a polynomial feature to avoid it"
   ]
  },
  {
   "cell_type": "markdown",
   "metadata": {},
   "source": [
    "### Polynomial Regression"
   ]
  },
  {
   "cell_type": "code",
   "execution_count": 49,
   "metadata": {},
   "outputs": [],
   "source": [
    "from sklearn.preprocessing import PolynomialFeatures\n",
    "from sklearn.pipeline import Pipeline\n",
    "model = Pipeline([('poly', PolynomialFeatures(degree=3)),\n",
    "                ('linear', LinearRegression(fit_intercept=False))])\n",
    "\n",
    "polyreg = model.fit(X_training, y_training) \n",
    "\n",
    "poly_pred = polyreg.predict(X_test)"
   ]
  },
  {
   "cell_type": "code",
   "execution_count": 50,
   "metadata": {},
   "outputs": [
    {
     "name": "stdout",
     "output_type": "stream",
     "text": [
      "r2: 0.9780736552052136 rmse: 583.647132597247\n"
     ]
    }
   ],
   "source": [
    "poly_r2 = polyreg.score(X_test, y_test)\n",
    "\n",
    "poly_rmse = mean_squared_error(y_test, poly_pred, sample_weight=None, multioutput='uniform_average', squared=False)\n",
    "\n",
    "print(\"r2:\",poly_r2,\"rmse:\",poly_rmse)"
   ]
  },
  {
   "cell_type": "code",
   "execution_count": 51,
   "metadata": {
    "scrolled": true
   },
   "outputs": [
    {
     "data": {
      "text/plain": [
       "Text(0.5, 1.0, 'Residual plot')"
      ]
     },
     "execution_count": 51,
     "metadata": {},
     "output_type": "execute_result"
    },
    {
     "data": {
      "image/png": "[encoded data removed]",
      "text/plain": [
       "<Figure size 432x288 with 1 Axes>"
      ]
     },
     "metadata": {
      "needs_background": "light"
     },
     "output_type": "display_data"
    }
   ],
   "source": [
    "plt.scatter(poly_pred, (poly_pred - y_test), c='b')\n",
    "\n",
    "plt.hlines(y=0, xmin= -1000, xmax=20000)\n",
    "\n",
    "plt.title('Residual plot')"
   ]
  },
  {
   "cell_type": "markdown",
   "metadata": {},
   "source": [
    "#### Well, we see that actually we have less Heteroskedasticity, but our model has become less accurate as it has some big outliers"
   ]
  },
  {
   "cell_type": "markdown",
   "metadata": {},
   "source": [
    "#### After applying a polynomial feature just made our results worse, we will check if we can improve them with regularization (remember our model had Multicollinearity)"
   ]
  },
  {
   "cell_type": "code",
   "execution_count": 52,
   "metadata": {},
   "outputs": [
    {
     "data": {
      "text/plain": [
       "<matplotlib.axes._subplots.AxesSubplot at 0x7f6e4a4da150>"
      ]
     },
     "execution_count": 52,
     "metadata": {},
     "output_type": "execute_result"
    },
    {
     "data": {
      "image/png": "[encoded data removed]",
      "text/plain": [
       "<Figure size 432x288 with 1 Axes>"
      ]
     },
     "metadata": {
      "needs_background": "light"
     },
     "output_type": "display_data"
    }
   ],
   "source": [
    "predictors = X_training.columns\n",
    "\n",
    "coef = pd.Series(lreg.coef_,predictors).sort_values()\n",
    "\n",
    "coef.plot(kind='bar', title='Modal Coefficients')"
   ]
  },
  {
   "cell_type": "markdown",
   "metadata": {},
   "source": [
    "### Ridge Regression "
   ]
  },
  {
   "cell_type": "code",
   "execution_count": 53,
   "metadata": {},
   "outputs": [],
   "source": [
    "from sklearn.linear_model import Ridge\n",
    "\n",
    "ridreg = Ridge(fit_intercept=True, normalize=False, alpha=0.01).fit(X_training, y_training) \n",
    "\n",
    "ridreg_pred = ridreg.predict(X_test)"
   ]
  },
  {
   "cell_type": "code",
   "execution_count": 54,
   "metadata": {},
   "outputs": [
    {
     "name": "stdout",
     "output_type": "stream",
     "text": [
      "r2: 0.9142600007418662 rmse: 1154.1412791808334\n"
     ]
    }
   ],
   "source": [
    "rid_r2 = ridreg.score(X_test, y_test)\n",
    "\n",
    "ridreg_rmse = mean_squared_error(y_test, ridreg_pred, sample_weight=None, multioutput='uniform_average', squared=False)\n",
    "\n",
    "print(\"r2:\",rid_r2,\"rmse:\",ridreg_rmse)"
   ]
  },
  {
   "cell_type": "code",
   "execution_count": 55,
   "metadata": {},
   "outputs": [
    {
     "data": {
      "text/plain": [
       "<matplotlib.axes._subplots.AxesSubplot at 0x7f6e4a4e1150>"
      ]
     },
     "execution_count": 55,
     "metadata": {},
     "output_type": "execute_result"
    },
    {
     "data": {
      "image/png": "[encoded data removed]",
      "text/plain": [
       "<Figure size 432x288 with 1 Axes>"
      ]
     },
     "metadata": {
      "needs_background": "light"
     },
     "output_type": "display_data"
    }
   ],
   "source": [
    "predictors = X_training.columns\n",
    "\n",
    "coef = pd.Series(ridreg.coef_,predictors).sort_values()\n",
    "\n",
    "coef.plot(kind='bar', title='Modal Coefficients')"
   ]
  },
  {
   "cell_type": "markdown",
   "metadata": {},
   "source": [
    "### Lasso Regression"
   ]
  },
  {
   "cell_type": "code",
   "execution_count": 56,
   "metadata": {},
   "outputs": [],
   "source": [
    "from sklearn.linear_model import Lasso\n",
    "\n",
    "lassreg = Lasso(fit_intercept=True, normalize=True, alpha=0.01).fit(X_training, y_training) \n",
    "\n",
    "lassreg_pred = lassreg.predict(X_test)"
   ]
  },
  {
   "cell_type": "code",
   "execution_count": 57,
   "metadata": {},
   "outputs": [
    {
     "name": "stdout",
     "output_type": "stream",
     "text": [
      "r2: 0.914311987632748 rmse: 1153.7913298279586\n"
     ]
    }
   ],
   "source": [
    "lass_r2 = lassreg.score(X_test, y_test)\n",
    "\n",
    "lassreg_rmse = mean_squared_error(y_test, lassreg_pred, sample_weight=None, multioutput='uniform_average', squared=False)\n",
    "\n",
    "print(\"r2:\",lass_r2,\"rmse:\",lassreg_rmse)"
   ]
  },
  {
   "cell_type": "code",
   "execution_count": 58,
   "metadata": {},
   "outputs": [
    {
     "data": {
      "text/plain": [
       "<matplotlib.axes._subplots.AxesSubplot at 0x7f6e4a319710>"
      ]
     },
     "execution_count": 58,
     "metadata": {},
     "output_type": "execute_result"
    },
    {
     "data": {
      "image/png": "[encoded data removed]",
      "text/plain": [
       "<Figure size 432x288 with 1 Axes>"
      ]
     },
     "metadata": {
      "needs_background": "light"
     },
     "output_type": "display_data"
    }
   ],
   "source": [
    "predictors = X_training.columns\n",
    "\n",
    "coef = pd.Series(lassreg.coef_,predictors).sort_values()\n",
    "\n",
    "coef.plot(kind='bar', title='Modal Coefficients')"
   ]
  },
  {
   "cell_type": "markdown",
   "metadata": {},
   "source": [
    "### Elastic Net Regression"
   ]
  },
  {
   "cell_type": "code",
   "execution_count": 59,
   "metadata": {},
   "outputs": [],
   "source": [
    "from sklearn.linear_model import ElasticNet\n",
    "\n",
    "enetreg = ElasticNet(fit_intercept=True, normalize=False, alpha=0.01, l1_ratio=0.5).fit(X_training, y_training) \n",
    "\n",
    "enetreg_pred = enetreg.predict(X_test)"
   ]
  },
  {
   "cell_type": "code",
   "execution_count": 60,
   "metadata": {},
   "outputs": [
    {
     "name": "stdout",
     "output_type": "stream",
     "text": [
      "r2: 0.9145470059044098 rmse: 1152.2079798205257\n"
     ]
    }
   ],
   "source": [
    "enet_r2 = enetreg.score(X_test, y_test)\n",
    "\n",
    "enet_rmse = mean_squared_error(y_test, enetreg_pred, sample_weight=None, multioutput='uniform_average', squared=False)\n",
    "\n",
    "print(\"r2:\",enet_r2,\"rmse:\",enet_rmse)"
   ]
  },
  {
   "cell_type": "code",
   "execution_count": 61,
   "metadata": {},
   "outputs": [
    {
     "data": {
      "text/plain": [
       "<matplotlib.axes._subplots.AxesSubplot at 0x7f6e4a271a10>"
      ]
     },
     "execution_count": 61,
     "metadata": {},
     "output_type": "execute_result"
    },
    {
     "data": {
      "image/png": "[encoded data removed]",
      "text/plain": [
       "<Figure size 432x288 with 1 Axes>"
      ]
     },
     "metadata": {
      "needs_background": "light"
     },
     "output_type": "display_data"
    }
   ],
   "source": [
    "predictors = X_training.columns\n",
    "\n",
    "coef = pd.Series(enetreg.coef_,predictors).sort_values()\n",
    "\n",
    "coef.plot(kind='bar', title='Modal Coefficients')"
   ]
  },
  {
   "cell_type": "markdown",
   "metadata": {},
   "source": [
    "### LARS"
   ]
  },
  {
   "cell_type": "code",
   "execution_count": 62,
   "metadata": {},
   "outputs": [],
   "source": [
    "from sklearn.linear_model import LassoLars\n",
    "\n",
    "LARSreg = LassoLars(fit_intercept=True, normalize=False, alpha=0.01).fit(X_training, y_training) \n",
    "\n",
    "LARSreg_pred = LARSreg.predict(X_test)"
   ]
  },
  {
   "cell_type": "code",
   "execution_count": 63,
   "metadata": {},
   "outputs": [
    {
     "name": "stdout",
     "output_type": "stream",
     "text": [
      "r2: 0.9142602728751832 rmse: 1154.1394475937882\n"
     ]
    }
   ],
   "source": [
    "LARS_r2 = LARSreg.score(X_test, y_test)\n",
    "\n",
    "LARS_rmse = mean_squared_error(y_test, LARSreg_pred, sample_weight=None, multioutput='uniform_average', squared=False)\n",
    "\n",
    "print(\"r2:\",LARS_r2,\"rmse:\",LARS_rmse)"
   ]
  },
  {
   "cell_type": "code",
   "execution_count": 64,
   "metadata": {},
   "outputs": [
    {
     "data": {
      "text/plain": [
       "<matplotlib.axes._subplots.AxesSubplot at 0x7f6e4a3c5f10>"
      ]
     },
     "execution_count": 64,
     "metadata": {},
     "output_type": "execute_result"
    },
    {
     "data": {
      "image/png": "[encoded data removed]",
      "text/plain": [
       "<Figure size 432x288 with 1 Axes>"
      ]
     },
     "metadata": {
      "needs_background": "light"
     },
     "output_type": "display_data"
    }
   ],
   "source": [
    "predictors = X_training.columns\n",
    "\n",
    "coef = pd.Series(LARSreg.coef_,predictors).sort_values()\n",
    "\n",
    "coef.plot(kind='bar', title='Modal Coefficients')"
   ]
  },
  {
   "cell_type": "markdown",
   "metadata": {},
   "source": [
    "### Bayessian Ridge"
   ]
  },
  {
   "cell_type": "code",
   "execution_count": 65,
   "metadata": {},
   "outputs": [],
   "source": [
    "from sklearn.linear_model import BayesianRidge\n",
    "\n",
    "bayreg = BayesianRidge().fit(X_training, y_training) \n",
    "\n",
    "bayreg_pred = bayreg.predict(X_test)"
   ]
  },
  {
   "cell_type": "code",
   "execution_count": 66,
   "metadata": {},
   "outputs": [
    {
     "name": "stdout",
     "output_type": "stream",
     "text": [
      "r2: 0.9142629057853469 rmse: 1154.1217267022437\n"
     ]
    }
   ],
   "source": [
    "bay_r2 = bayreg.score(X_test, y_test)\n",
    "\n",
    "bay_rmse = mean_squared_error(y_test, bayreg_pred, sample_weight=None, multioutput='uniform_average', squared=False)\n",
    "\n",
    "print(\"r2:\",bay_r2,\"rmse:\",bay_rmse)"
   ]
  },
  {
   "cell_type": "code",
   "execution_count": 67,
   "metadata": {
    "scrolled": false
   },
   "outputs": [
    {
     "data": {
      "text/plain": [
       "<matplotlib.axes._subplots.AxesSubplot at 0x7f6e4a09b810>"
      ]
     },
     "execution_count": 67,
     "metadata": {},
     "output_type": "execute_result"
    },
    {
     "data": {
      "image/png": "[encoded data removed]",
      "text/plain": [
       "<Figure size 432x288 with 1 Axes>"
      ]
     },
     "metadata": {
      "needs_background": "light"
     },
     "output_type": "display_data"
    }
   ],
   "source": [
    "predictors = X_training.columns\n",
    "\n",
    "coef = pd.Series(bayreg.coef_,predictors).sort_values()\n",
    "\n",
    "coef.plot(kind='bar', title='Modal Coefficients')"
   ]
  },
  {
   "cell_type": "markdown",
   "metadata": {},
   "source": [
    "### Robust Regressor: Huber"
   ]
  },
  {
   "cell_type": "code",
   "execution_count": 68,
   "metadata": {},
   "outputs": [],
   "source": [
    "from sklearn.linear_model import HuberRegressor\n",
    "\n",
    "hubreg = HuberRegressor().fit(X_training, y_training) \n",
    "\n",
    "hubreg_pred = hubreg.predict(X_test)"
   ]
  },
  {
   "cell_type": "code",
   "execution_count": 69,
   "metadata": {},
   "outputs": [
    {
     "name": "stdout",
     "output_type": "stream",
     "text": [
      "r2: 0.9057628918326454 rmse: 1209.9800559274665\n"
     ]
    }
   ],
   "source": [
    "hub_r2 = hubreg.score(X_test, y_test)\n",
    "\n",
    "hub_rmse = mean_squared_error(y_test, hubreg_pred, sample_weight=None, multioutput='uniform_average', squared=False)\n",
    "\n",
    "print(\"r2:\",hub_r2,\"rmse:\",hub_rmse)"
   ]
  },
  {
   "cell_type": "code",
   "execution_count": 70,
   "metadata": {},
   "outputs": [
    {
     "data": {
      "text/plain": [
       "<matplotlib.axes._subplots.AxesSubplot at 0x7f6e49ff7d50>"
      ]
     },
     "execution_count": 70,
     "metadata": {},
     "output_type": "execute_result"
    },
    {
     "data": {
      "image/png": "[encoded data removed]",
      "text/plain": [
       "<Figure size 432x288 with 1 Axes>"
      ]
     },
     "metadata": {
      "needs_background": "light"
     },
     "output_type": "display_data"
    }
   ],
   "source": [
    "predictors = X_training.columns\n",
    "\n",
    "coef = pd.Series(hubreg.coef_,predictors).sort_values()\n",
    "\n",
    "coef.plot(kind='bar', title='Modal Coefficients')"
   ]
  },
  {
   "cell_type": "markdown",
   "metadata": {},
   "source": [
    "#### We can see even following all the steps, the linear models don't look like good predictors for our dataset. Could be due to our categorical variables, in real life are nominal, and to fit the linear models we have to turn them to dummies "
   ]
  },
  {
   "cell_type": "markdown",
   "metadata": {},
   "source": [
    "#### However lets test the Lasso model (our best opt) in the test dataset"
   ]
  },
  {
   "cell_type": "code",
   "execution_count": 71,
   "metadata": {},
   "outputs": [
    {
     "name": "stdout",
     "output_type": "stream",
     "text": [
      "(13449, 10)\n"
     ]
    },
    {
     "data": {
      "text/html": [
       "<div>\n",
       "<style scoped>\n",
       "    .dataframe tbody tr th:only-of-type {\n",
       "        vertical-align: middle;\n",
       "    }\n",
       "\n",
       "    .dataframe tbody tr th {\n",
       "        vertical-align: top;\n",
       "    }\n",
       "\n",
       "    .dataframe thead th {\n",
       "        text-align: right;\n",
       "    }\n",
       "</style>\n",
       "<table border=\"1\" class=\"dataframe\">\n",
       "  <thead>\n",
       "    <tr style=\"text-align: right;\">\n",
       "      <th></th>\n",
       "      <th>Unnamed: 0</th>\n",
       "      <th>carat</th>\n",
       "      <th>cut</th>\n",
       "      <th>color</th>\n",
       "      <th>clarity</th>\n",
       "      <th>depth</th>\n",
       "      <th>table</th>\n",
       "      <th>x</th>\n",
       "      <th>y</th>\n",
       "      <th>z</th>\n",
       "    </tr>\n",
       "  </thead>\n",
       "  <tbody>\n",
       "    <tr>\n",
       "      <th>0</th>\n",
       "      <td>0</td>\n",
       "      <td>0.30</td>\n",
       "      <td>Ideal</td>\n",
       "      <td>H</td>\n",
       "      <td>SI2</td>\n",
       "      <td>60.0</td>\n",
       "      <td>56.0</td>\n",
       "      <td>4.41</td>\n",
       "      <td>4.43</td>\n",
       "      <td>2.65</td>\n",
       "    </tr>\n",
       "    <tr>\n",
       "      <th>1</th>\n",
       "      <td>1</td>\n",
       "      <td>0.34</td>\n",
       "      <td>Ideal</td>\n",
       "      <td>D</td>\n",
       "      <td>IF</td>\n",
       "      <td>62.1</td>\n",
       "      <td>57.0</td>\n",
       "      <td>4.52</td>\n",
       "      <td>4.46</td>\n",
       "      <td>2.79</td>\n",
       "    </tr>\n",
       "    <tr>\n",
       "      <th>2</th>\n",
       "      <td>2</td>\n",
       "      <td>1.57</td>\n",
       "      <td>Very Good</td>\n",
       "      <td>I</td>\n",
       "      <td>VS2</td>\n",
       "      <td>60.3</td>\n",
       "      <td>58.0</td>\n",
       "      <td>7.58</td>\n",
       "      <td>7.55</td>\n",
       "      <td>4.56</td>\n",
       "    </tr>\n",
       "    <tr>\n",
       "      <th>3</th>\n",
       "      <td>3</td>\n",
       "      <td>0.31</td>\n",
       "      <td>Ideal</td>\n",
       "      <td>H</td>\n",
       "      <td>VS2</td>\n",
       "      <td>61.8</td>\n",
       "      <td>57.0</td>\n",
       "      <td>4.32</td>\n",
       "      <td>4.36</td>\n",
       "      <td>2.68</td>\n",
       "    </tr>\n",
       "    <tr>\n",
       "      <th>4</th>\n",
       "      <td>4</td>\n",
       "      <td>1.51</td>\n",
       "      <td>Good</td>\n",
       "      <td>I</td>\n",
       "      <td>VVS1</td>\n",
       "      <td>64.0</td>\n",
       "      <td>60.0</td>\n",
       "      <td>7.26</td>\n",
       "      <td>7.21</td>\n",
       "      <td>4.63</td>\n",
       "    </tr>\n",
       "  </tbody>\n",
       "</table>\n",
       "</div>"
      ],
      "text/plain": [
       "   Unnamed: 0  carat        cut color clarity  depth  table     x     y     z\n",
       "0           0   0.30      Ideal     H     SI2   60.0   56.0  4.41  4.43  2.65\n",
       "1           1   0.34      Ideal     D      IF   62.1   57.0  4.52  4.46  2.79\n",
       "2           2   1.57  Very Good     I     VS2   60.3   58.0  7.58  7.55  4.56\n",
       "3           3   0.31      Ideal     H     VS2   61.8   57.0  4.32  4.36  2.68\n",
       "4           4   1.51       Good     I    VVS1   64.0   60.0  7.26  7.21  4.63"
      ]
     },
     "execution_count": 71,
     "metadata": {},
     "output_type": "execute_result"
    }
   ],
   "source": [
    "testdf = pd.read_csv(\"INPUT/diamonds_test.csv\")\n",
    "print(testdf.shape)\n",
    "testdf.head()"
   ]
  },
  {
   "cell_type": "markdown",
   "metadata": {},
   "source": [
    "#### Compute Volume"
   ]
  },
  {
   "cell_type": "code",
   "execution_count": 72,
   "metadata": {},
   "outputs": [],
   "source": [
    "testdf[\"volume\"] = testdf.x * testdf.y * testdf.z\n",
    "testdf.drop(columns={\"Unnamed: 0\",\"x\",\"y\",\"z\"}, inplace=True)"
   ]
  },
  {
   "cell_type": "code",
   "execution_count": 73,
   "metadata": {},
   "outputs": [],
   "source": [
    "test_dum = pd.get_dummies(testdf)"
   ]
  },
  {
   "cell_type": "code",
   "execution_count": 74,
   "metadata": {},
   "outputs": [
    {
     "data": {
      "text/html": [
       "<div>\n",
       "<style scoped>\n",
       "    .dataframe tbody tr th:only-of-type {\n",
       "        vertical-align: middle;\n",
       "    }\n",
       "\n",
       "    .dataframe tbody tr th {\n",
       "        vertical-align: top;\n",
       "    }\n",
       "\n",
       "    .dataframe thead th {\n",
       "        text-align: right;\n",
       "    }\n",
       "</style>\n",
       "<table border=\"1\" class=\"dataframe\">\n",
       "  <thead>\n",
       "    <tr style=\"text-align: right;\">\n",
       "      <th></th>\n",
       "      <th>carat</th>\n",
       "      <th>depth</th>\n",
       "      <th>table</th>\n",
       "      <th>volume</th>\n",
       "      <th>cut_Fair</th>\n",
       "      <th>cut_Good</th>\n",
       "      <th>cut_Ideal</th>\n",
       "      <th>cut_Premium</th>\n",
       "      <th>cut_Very Good</th>\n",
       "      <th>color_D</th>\n",
       "      <th>...</th>\n",
       "      <th>color_I</th>\n",
       "      <th>color_J</th>\n",
       "      <th>clarity_I1</th>\n",
       "      <th>clarity_IF</th>\n",
       "      <th>clarity_SI1</th>\n",
       "      <th>clarity_SI2</th>\n",
       "      <th>clarity_VS1</th>\n",
       "      <th>clarity_VS2</th>\n",
       "      <th>clarity_VVS1</th>\n",
       "      <th>clarity_VVS2</th>\n",
       "    </tr>\n",
       "  </thead>\n",
       "  <tbody>\n",
       "    <tr>\n",
       "      <th>0</th>\n",
       "      <td>0.30</td>\n",
       "      <td>60.0</td>\n",
       "      <td>56.0</td>\n",
       "      <td>51.771195</td>\n",
       "      <td>0</td>\n",
       "      <td>0</td>\n",
       "      <td>1</td>\n",
       "      <td>0</td>\n",
       "      <td>0</td>\n",
       "      <td>0</td>\n",
       "      <td>...</td>\n",
       "      <td>0</td>\n",
       "      <td>0</td>\n",
       "      <td>0</td>\n",
       "      <td>0</td>\n",
       "      <td>0</td>\n",
       "      <td>1</td>\n",
       "      <td>0</td>\n",
       "      <td>0</td>\n",
       "      <td>0</td>\n",
       "      <td>0</td>\n",
       "    </tr>\n",
       "    <tr>\n",
       "      <th>1</th>\n",
       "      <td>0.34</td>\n",
       "      <td>62.1</td>\n",
       "      <td>57.0</td>\n",
       "      <td>56.244168</td>\n",
       "      <td>0</td>\n",
       "      <td>0</td>\n",
       "      <td>1</td>\n",
       "      <td>0</td>\n",
       "      <td>0</td>\n",
       "      <td>1</td>\n",
       "      <td>...</td>\n",
       "      <td>0</td>\n",
       "      <td>0</td>\n",
       "      <td>0</td>\n",
       "      <td>1</td>\n",
       "      <td>0</td>\n",
       "      <td>0</td>\n",
       "      <td>0</td>\n",
       "      <td>0</td>\n",
       "      <td>0</td>\n",
       "      <td>0</td>\n",
       "    </tr>\n",
       "    <tr>\n",
       "      <th>2</th>\n",
       "      <td>1.57</td>\n",
       "      <td>60.3</td>\n",
       "      <td>58.0</td>\n",
       "      <td>260.964240</td>\n",
       "      <td>0</td>\n",
       "      <td>0</td>\n",
       "      <td>0</td>\n",
       "      <td>0</td>\n",
       "      <td>1</td>\n",
       "      <td>0</td>\n",
       "      <td>...</td>\n",
       "      <td>1</td>\n",
       "      <td>0</td>\n",
       "      <td>0</td>\n",
       "      <td>0</td>\n",
       "      <td>0</td>\n",
       "      <td>0</td>\n",
       "      <td>0</td>\n",
       "      <td>1</td>\n",
       "      <td>0</td>\n",
       "      <td>0</td>\n",
       "    </tr>\n",
       "    <tr>\n",
       "      <th>3</th>\n",
       "      <td>0.31</td>\n",
       "      <td>61.8</td>\n",
       "      <td>57.0</td>\n",
       "      <td>50.478336</td>\n",
       "      <td>0</td>\n",
       "      <td>0</td>\n",
       "      <td>1</td>\n",
       "      <td>0</td>\n",
       "      <td>0</td>\n",
       "      <td>0</td>\n",
       "      <td>...</td>\n",
       "      <td>0</td>\n",
       "      <td>0</td>\n",
       "      <td>0</td>\n",
       "      <td>0</td>\n",
       "      <td>0</td>\n",
       "      <td>0</td>\n",
       "      <td>0</td>\n",
       "      <td>1</td>\n",
       "      <td>0</td>\n",
       "      <td>0</td>\n",
       "    </tr>\n",
       "    <tr>\n",
       "      <th>4</th>\n",
       "      <td>1.51</td>\n",
       "      <td>64.0</td>\n",
       "      <td>60.0</td>\n",
       "      <td>242.355498</td>\n",
       "      <td>0</td>\n",
       "      <td>1</td>\n",
       "      <td>0</td>\n",
       "      <td>0</td>\n",
       "      <td>0</td>\n",
       "      <td>0</td>\n",
       "      <td>...</td>\n",
       "      <td>1</td>\n",
       "      <td>0</td>\n",
       "      <td>0</td>\n",
       "      <td>0</td>\n",
       "      <td>0</td>\n",
       "      <td>0</td>\n",
       "      <td>0</td>\n",
       "      <td>0</td>\n",
       "      <td>1</td>\n",
       "      <td>0</td>\n",
       "    </tr>\n",
       "  </tbody>\n",
       "</table>\n",
       "<p>5 rows × 24 columns</p>\n",
       "</div>"
      ],
      "text/plain": [
       "   carat  depth  table      volume  cut_Fair  cut_Good  cut_Ideal  \\\n",
       "0   0.30   60.0   56.0   51.771195         0         0          1   \n",
       "1   0.34   62.1   57.0   56.244168         0         0          1   \n",
       "2   1.57   60.3   58.0  260.964240         0         0          0   \n",
       "3   0.31   61.8   57.0   50.478336         0         0          1   \n",
       "4   1.51   64.0   60.0  242.355498         0         1          0   \n",
       "\n",
       "   cut_Premium  cut_Very Good  color_D  ...  color_I  color_J  clarity_I1  \\\n",
       "0            0              0        0  ...        0        0           0   \n",
       "1            0              0        1  ...        0        0           0   \n",
       "2            0              1        0  ...        1        0           0   \n",
       "3            0              0        0  ...        0        0           0   \n",
       "4            0              0        0  ...        1        0           0   \n",
       "\n",
       "   clarity_IF  clarity_SI1  clarity_SI2  clarity_VS1  clarity_VS2  \\\n",
       "0           0            0            1            0            0   \n",
       "1           1            0            0            0            0   \n",
       "2           0            0            0            0            1   \n",
       "3           0            0            0            0            1   \n",
       "4           0            0            0            0            0   \n",
       "\n",
       "   clarity_VVS1  clarity_VVS2  \n",
       "0             0             0  \n",
       "1             0             0  \n",
       "2             0             0  \n",
       "3             0             0  \n",
       "4             1             0  \n",
       "\n",
       "[5 rows x 24 columns]"
      ]
     },
     "execution_count": 74,
     "metadata": {},
     "output_type": "execute_result"
    }
   ],
   "source": [
    "test_dum.head()"
   ]
  },
  {
   "cell_type": "code",
   "execution_count": 75,
   "metadata": {},
   "outputs": [],
   "source": [
    "Xss_test = sc_X.fit_transform(test_dum)\n",
    "\n",
    "test_SS = pd.DataFrame(Xss_test, columns=['carat', 'depth', 'table', 'volume', 'cut_Fair', 'cut_Good',\n",
    "       'cut_Ideal', 'cut_Premium', 'cut_Very Good', 'color_D', 'color_E',\n",
    "       'color_F', 'color_G', 'color_H', 'color_I', 'color_J', 'clarity_I1',\n",
    "       'clarity_IF', 'clarity_SI1', 'clarity_SI2', 'clarity_VS1',\n",
    "       'clarity_VS2', 'clarity_VVS1', 'clarity_VVS2'])"
   ]
  },
  {
   "cell_type": "markdown",
   "metadata": {},
   "source": [
    "#### Now we will use our 2 best models. So we train our models again but with 100% of the data and take the 2 best"
   ]
  },
  {
   "cell_type": "markdown",
   "metadata": {},
   "source": [
    "#### Surprisingly, after applying the 100%, the polynomial model has the best rmse by far out of all the models. However we will test with the Polynomial and the Elastic Net Models"
   ]
  },
  {
   "cell_type": "code",
   "execution_count": null,
   "metadata": {},
   "outputs": [],
   "source": [
    "poly_pred = polyreg.predict(test_SS)"
   ]
  },
  {
   "cell_type": "code",
   "execution_count": null,
   "metadata": {},
   "outputs": [],
   "source": [
    "enetreg_pred = enetreg.predict(test_SS)"
   ]
  },
  {
   "cell_type": "code",
   "execution_count": null,
   "metadata": {},
   "outputs": [],
   "source": []
  },
  {
   "cell_type": "code",
   "execution_count": null,
   "metadata": {},
   "outputs": [],
   "source": []
  },
  {
   "cell_type": "code",
   "execution_count": null,
   "metadata": {},
   "outputs": [],
   "source": []
  },
  {
   "cell_type": "code",
   "execution_count": null,
   "metadata": {},
   "outputs": [],
   "source": []
  }
 ],
 "metadata": {
  "kernelspec": {
   "display_name": "Python 3",
   "language": "python",
   "name": "python3"
  },
  "language_info": {
   "codemirror_mode": {
    "name": "ipython",
    "version": 3
   },
   "file_extension": ".py",
   "mimetype": "text/x-python",
   "name": "python",
   "nbconvert_exporter": "python",
   "pygments_lexer": "ipython3",
   "version": "3.7.4"
  }
 },
 "nbformat": 4,
 "nbformat_minor": 2
}
